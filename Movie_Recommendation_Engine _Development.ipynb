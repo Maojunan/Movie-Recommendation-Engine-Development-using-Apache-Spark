{
 "cells": [
  {
   "cell_type": "markdown",
   "metadata": {
    "application/vnd.databricks.v1+cell": {
     "cellMetadata": {},
     "inputWidgets": {},
     "nuid": "d48e9a94-c0f9-4854-bc44-1bb3ed429ea8",
     "showTitle": false,
     "title": ""
    },
    "id": "fqTfTeWrE8Qx"
   },
   "source": [
    "### Movie Recommendation Engine Development using Apache Spark\n",
    "In this notebook, we will use an Alternating Least Squares (ALS) algorithm with Spark APIs to predict the ratings for the movies in [MovieLens small dataset](https://grouplens.org/datasets/movielens/latest/)"
   ]
  },
  {
   "cell_type": "code",
   "execution_count": 2,
   "metadata": {
    "id": "B2SrpElUKWCp"
   },
   "outputs": [],
   "source": [
    "!apt-get install openjdk-8-jdk-headless -qq > /dev/null\n",
    "!wget -q https://archive.apache.org/dist/spark/spark-3.2.1/spark-3.2.1-bin-hadoop3.2.tgz\n",
    "!tar xf spark-3.2.1-bin-hadoop3.2.tgz\n",
    "!pip install -q findspark\n",
    "\n",
    "import os\n",
    "os.environ[\"JAVA_HOME\"] = \"/usr/lib/jvm/java-8-openjdk-amd64\"\n",
    "os.environ[\"SPARK_HOME\"] = \"/content/spark-3.2.1-bin-hadoop3.2\"\n",
    "\n",
    "import findspark\n",
    "findspark.init()\n",
    "from pyspark.sql import SparkSession\n",
    "spark = SparkSession.builder.master(\"local[*]\").getOrCreate()\n",
    "spark\n",
    "\n",
    "from pyspark.sql.functions import col\n"
   ]
  },
  {
   "cell_type": "code",
   "execution_count": 3,
   "metadata": {
    "colab": {
     "base_uri": "https://localhost:8080/",
     "height": 35
    },
    "id": "-6TRy38EUOGF",
    "outputId": "bd2cba78-cb99-4077-ba52-fcec67e3a679"
   },
   "outputs": [
    {
     "data": {
      "application/vnd.google.colaboratory.intrinsic+json": {
       "type": "string"
      },
      "text/plain": [
       "'/content/spark-3.2.1-bin-hadoop3.2'"
      ]
     },
     "execution_count": 3,
     "metadata": {},
     "output_type": "execute_result"
    }
   ],
   "source": [
    "# Install library for finding Spark\n",
    "!pip install -q findspark\n",
    "# Import the libary\n",
    "import findspark\n",
    "# Initiate findspark\n",
    "findspark.init()\n",
    "# Check the location for Spark\n",
    "findspark.find()"
   ]
  },
  {
   "cell_type": "code",
   "execution_count": 4,
   "metadata": {
    "colab": {
     "base_uri": "https://localhost:8080/",
     "height": 221
    },
    "id": "bH5Gg0FtUTGP",
    "outputId": "8ab9572b-02e7-4f50-a5ba-27b3ddcad80f"
   },
   "outputs": [
    {
     "data": {
      "text/html": [
       "\n",
       "            <div>\n",
       "                <p><b>SparkSession - in-memory</b></p>\n",
       "                \n",
       "        <div>\n",
       "            <p><b>SparkContext</b></p>\n",
       "\n",
       "            <p><a href=\"http://fa19d0eb4d74:4040\">Spark UI</a></p>\n",
       "\n",
       "            <dl>\n",
       "              <dt>Version</dt>\n",
       "                <dd><code>v3.2.1</code></dd>\n",
       "              <dt>Master</dt>\n",
       "                <dd><code>local[*]</code></dd>\n",
       "              <dt>AppName</dt>\n",
       "                <dd><code>pyspark-shell</code></dd>\n",
       "            </dl>\n",
       "        </div>\n",
       "        \n",
       "            </div>\n",
       "        "
      ],
      "text/plain": [
       "<pyspark.sql.session.SparkSession at 0x7e093c1f18d0>"
      ]
     },
     "execution_count": 4,
     "metadata": {},
     "output_type": "execute_result"
    }
   ],
   "source": [
    "# Import SparkSession\n",
    "from pyspark.sql import SparkSession\n",
    "# Create a Spark Session\n",
    "spark = SparkSession.builder.master(\"local[*]\").getOrCreate()\n",
    "# Check Spark Session Information\n",
    "spark"
   ]
  },
  {
   "cell_type": "code",
   "execution_count": 5,
   "metadata": {
    "id": "vhJ32DeEU8ep"
   },
   "outputs": [],
   "source": [
    "# Import a Spark function from library\n",
    "from pyspark.sql.functions import col"
   ]
  },
  {
   "cell_type": "code",
   "execution_count": 6,
   "metadata": {
    "application/vnd.databricks.v1+cell": {
     "cellMetadata": {},
     "inputWidgets": {},
     "nuid": "7e15fc79-1a2e-41b1-b43a-b22e1ae3979f",
     "showTitle": false,
     "title": ""
    },
    "collapsed": true,
    "id": "43ZGL3q8E8Qy",
    "jupyter": {
     "outputs_hidden": true
    }
   },
   "outputs": [],
   "source": [
    "import numpy as np\n",
    "import pandas as pd\n",
    "import seaborn as sns\n",
    "import matplotlib.pyplot as plt\n",
    "import math\n",
    "%matplotlib inline"
   ]
  },
  {
   "cell_type": "code",
   "execution_count": 7,
   "metadata": {
    "application/vnd.databricks.v1+cell": {
     "cellMetadata": {},
     "inputWidgets": {},
     "nuid": "75476907-4d6f-422a-ac23-b308372ebaf0",
     "showTitle": false,
     "title": ""
    },
    "collapsed": true,
    "id": "-FwuSnUrE8Qy",
    "jupyter": {
     "outputs_hidden": true
    }
   },
   "outputs": [],
   "source": [
    "import os\n",
    "os.environ[\"PYSPARK_PYTHON\"] = \"python3\""
   ]
  },
  {
   "cell_type": "code",
   "execution_count": 1,
   "metadata": {
    "colab": {
     "base_uri": "https://localhost:8080/"
    },
    "id": "ZIttpNouHXUU",
    "outputId": "2328f808-56f9-45d2-aa24-1c60406cea2c"
   },
   "outputs": [
    {
     "name": "stdout",
     "output_type": "stream",
     "text": [
      "Mounted at /content/drive\n"
     ]
    }
   ],
   "source": [
    "from google.colab import drive\n",
    "drive.mount('/content/drive')"
   ]
  },
  {
   "cell_type": "markdown",
   "metadata": {
    "application/vnd.databricks.v1+cell": {
     "cellMetadata": {},
     "inputWidgets": {},
     "nuid": "c794e9d0-0144-449d-b5df-bfc43607cb84",
     "showTitle": false,
     "title": ""
    },
    "id": "rS6HBUBNE8Qy"
   },
   "source": [
    "## Part1: Data ETL and Data Exploration"
   ]
  },
  {
   "cell_type": "code",
   "execution_count": 8,
   "metadata": {
    "id": "c9V6dbw7H7yj"
   },
   "outputs": [],
   "source": [
    "movies_df = spark.read.load(\"/content/drive/MyDrive/HW2_movie/movies.csv\", format='csv', header = True)\n",
    "ratings_df = spark.read.load(\"/content/drive/MyDrive/HW2_movie/ratings.csv\", format='csv', header = True)\n",
    "links_df = spark.read.load(\"/content/drive/MyDrive/HW2_movie/links.csv\", format='csv', header = True)\n",
    "tags_df = spark.read.load(\"/content/drive/MyDrive/HW2_movie/tags.csv\", format='csv', header = True)"
   ]
  },
  {
   "cell_type": "code",
   "execution_count": 9,
   "metadata": {
    "application/vnd.databricks.v1+cell": {
     "cellMetadata": {},
     "inputWidgets": {},
     "nuid": "6c243114-2d92-4d3b-90fe-7e7e2fd4033b",
     "showTitle": false,
     "title": ""
    },
    "colab": {
     "base_uri": "https://localhost:8080/"
    },
    "id": "GezjD468E8Qy",
    "outputId": "cd5a73d4-ba82-48ab-cdc1-b8fa4ff3813c"
   },
   "outputs": [
    {
     "name": "stdout",
     "output_type": "stream",
     "text": [
      "+-------+--------------------+--------------------+\n",
      "|movieId|               title|              genres|\n",
      "+-------+--------------------+--------------------+\n",
      "|      1|    Toy Story (1995)|Adventure|Animati...|\n",
      "|      2|      Jumanji (1995)|Adventure|Childre...|\n",
      "|      3|Grumpier Old Men ...|      Comedy|Romance|\n",
      "|      4|Waiting to Exhale...|Comedy|Drama|Romance|\n",
      "|      5|Father of the Bri...|              Comedy|\n",
      "+-------+--------------------+--------------------+\n",
      "only showing top 5 rows\n",
      "\n"
     ]
    }
   ],
   "source": [
    "movies_df.show(5)"
   ]
  },
  {
   "cell_type": "code",
   "execution_count": 10,
   "metadata": {
    "application/vnd.databricks.v1+cell": {
     "cellMetadata": {},
     "inputWidgets": {},
     "nuid": "fea8824f-19d4-40d8-a964-268d8c5181fb",
     "showTitle": false,
     "title": ""
    },
    "colab": {
     "base_uri": "https://localhost:8080/"
    },
    "id": "OSNByKNLE8Q0",
    "outputId": "c7ee0460-4952-4d98-c0a5-97e312b6d0ca"
   },
   "outputs": [
    {
     "name": "stdout",
     "output_type": "stream",
     "text": [
      "+------+-------+------+---------+\n",
      "|userId|movieId|rating|timestamp|\n",
      "+------+-------+------+---------+\n",
      "|     1|      1|   4.0|964982703|\n",
      "|     1|      3|   4.0|964981247|\n",
      "|     1|      6|   4.0|964982224|\n",
      "|     1|     47|   5.0|964983815|\n",
      "|     1|     50|   5.0|964982931|\n",
      "+------+-------+------+---------+\n",
      "only showing top 5 rows\n",
      "\n"
     ]
    }
   ],
   "source": [
    "ratings_df.show(5)"
   ]
  },
  {
   "cell_type": "code",
   "execution_count": 11,
   "metadata": {
    "application/vnd.databricks.v1+cell": {
     "cellMetadata": {},
     "inputWidgets": {},
     "nuid": "fe5e154b-75ae-4be8-afac-53c32e7ea9e4",
     "showTitle": false,
     "title": ""
    },
    "colab": {
     "base_uri": "https://localhost:8080/"
    },
    "id": "-q2As_GXE8Q0",
    "outputId": "870e27a9-4652-422e-d3be-e1243fbda2ff"
   },
   "outputs": [
    {
     "name": "stdout",
     "output_type": "stream",
     "text": [
      "+-------+-------+------+\n",
      "|movieId| imdbId|tmdbId|\n",
      "+-------+-------+------+\n",
      "|      1|0114709|   862|\n",
      "|      2|0113497|  8844|\n",
      "|      3|0113228| 15602|\n",
      "|      4|0114885| 31357|\n",
      "|      5|0113041| 11862|\n",
      "+-------+-------+------+\n",
      "only showing top 5 rows\n",
      "\n"
     ]
    }
   ],
   "source": [
    "links_df.show(5)"
   ]
  },
  {
   "cell_type": "code",
   "execution_count": 12,
   "metadata": {
    "application/vnd.databricks.v1+cell": {
     "cellMetadata": {},
     "inputWidgets": {},
     "nuid": "6d8c090b-5e90-4e45-8965-77fb00ebcb19",
     "showTitle": false,
     "title": ""
    },
    "colab": {
     "base_uri": "https://localhost:8080/"
    },
    "id": "3NzdaHC-E8Q0",
    "outputId": "61663f1c-9e30-42be-d5af-1aa8d4278f4e"
   },
   "outputs": [
    {
     "name": "stdout",
     "output_type": "stream",
     "text": [
      "+------+-------+---------------+----------+\n",
      "|userId|movieId|            tag| timestamp|\n",
      "+------+-------+---------------+----------+\n",
      "|     2|  60756|          funny|1445714994|\n",
      "|     2|  60756|Highly quotable|1445714996|\n",
      "|     2|  60756|   will ferrell|1445714992|\n",
      "|     2|  89774|   Boxing story|1445715207|\n",
      "|     2|  89774|            MMA|1445715200|\n",
      "+------+-------+---------------+----------+\n",
      "only showing top 5 rows\n",
      "\n"
     ]
    }
   ],
   "source": [
    "tags_df.show(5)"
   ]
  },
  {
   "cell_type": "code",
   "execution_count": 13,
   "metadata": {
    "application/vnd.databricks.v1+cell": {
     "cellMetadata": {},
     "inputWidgets": {},
     "nuid": "1b1afc30-15d2-4bf0-b648-9af19bf831df",
     "showTitle": false,
     "title": ""
    },
    "colab": {
     "base_uri": "https://localhost:8080/"
    },
    "id": "BRFB2-SfE8Q0",
    "outputId": "5c1a9914-da21-4555-c60c-6c2bcc7f714d"
   },
   "outputs": [
    {
     "name": "stdout",
     "output_type": "stream",
     "text": [
      "For the users that rated movies and the movies that were rated:\n",
      "Minimum number of ratings per user is 20\n",
      "Minimum number of ratings per movie is 1\n"
     ]
    }
   ],
   "source": [
    "tmp1 = ratings_df.groupBy(\"userID\").count().toPandas()['count'].min()\n",
    "tmp2 = ratings_df.groupBy(\"movieId\").count().toPandas()['count'].min()\n",
    "print('For the users that rated movies and the movies that were rated:')\n",
    "print('Minimum number of ratings per user is {}'.format(tmp1))\n",
    "print('Minimum number of ratings per movie is {}'.format(tmp2))"
   ]
  },
  {
   "cell_type": "code",
   "execution_count": 14,
   "metadata": {
    "application/vnd.databricks.v1+cell": {
     "cellMetadata": {},
     "inputWidgets": {},
     "nuid": "7809e986-50b2-430e-a41f-3e6556275e38",
     "showTitle": false,
     "title": ""
    },
    "colab": {
     "base_uri": "https://localhost:8080/"
    },
    "id": "4rRlUCtFE8Q0",
    "outputId": "ec6d5833-c5e3-41b9-9564-207f7a33df20"
   },
   "outputs": [
    {
     "name": "stdout",
     "output_type": "stream",
     "text": [
      "3446 out of 9724 movies are rated by only one user\n"
     ]
    }
   ],
   "source": [
    "tmp1 = sum(ratings_df.groupBy(\"movieId\").count().toPandas()['count'] == 1)\n",
    "tmp2 = ratings_df.select('movieId').distinct().count()\n",
    "print('{} out of {} movies are rated by only one user'.format(tmp1, tmp2))"
   ]
  },
  {
   "cell_type": "markdown",
   "metadata": {
    "application/vnd.databricks.v1+cell": {
     "cellMetadata": {},
     "inputWidgets": {},
     "nuid": "d6789883-2c5d-474a-a0bf-81a7e074dbdc",
     "showTitle": false,
     "title": ""
    },
    "id": "Mqu0IuvyE8Q0"
   },
   "source": [
    "## Part 1: Spark SQL and OLAP"
   ]
  },
  {
   "cell_type": "code",
   "execution_count": 15,
   "metadata": {
    "application/vnd.databricks.v1+cell": {
     "cellMetadata": {},
     "inputWidgets": {},
     "nuid": "01675587-24d6-4858-b5aa-6741f532a278",
     "showTitle": false,
     "title": ""
    },
    "colab": {
     "base_uri": "https://localhost:8080/"
    },
    "id": "HNFOWYmxE8Q0",
    "outputId": "e0b733a1-558c-49dd-f0e2-82c441ebfd63"
   },
   "outputs": [
    {
     "name": "stderr",
     "output_type": "stream",
     "text": [
      "/content/spark-3.2.1-bin-hadoop3.2/python/pyspark/sql/dataframe.py:138: FutureWarning: Deprecated in 2.0, use createOrReplaceTempView instead.\n",
      "  warnings.warn(\n"
     ]
    }
   ],
   "source": [
    "movies_df.registerTempTable(\"movies\")\n",
    "ratings_df.registerTempTable(\"ratings\")\n",
    "links_df.registerTempTable(\"links\")\n",
    "tags_df.registerTempTable(\"tags\")"
   ]
  },
  {
   "cell_type": "markdown",
   "metadata": {
    "application/vnd.databricks.v1+cell": {
     "cellMetadata": {},
     "inputWidgets": {},
     "nuid": "2e0bae1f-cb34-426c-bc49-b75a59adb683",
     "showTitle": false,
     "title": ""
    },
    "id": "952ti8FOE8Q0"
   },
   "source": [
    "### Q1: The number of Users"
   ]
  },
  {
   "cell_type": "code",
   "execution_count": 18,
   "metadata": {
    "colab": {
     "base_uri": "https://localhost:8080/"
    },
    "id": "k2e1npivVXcD",
    "outputId": "99839126-5d63-418d-d617-104f79a9be82"
   },
   "outputs": [
    {
     "name": "stdout",
     "output_type": "stream",
     "text": [
      "+---------------+\n",
      "|Number_of_Users|\n",
      "+---------------+\n",
      "|            610|\n",
      "+---------------+\n",
      "\n"
     ]
    }
   ],
   "source": [
    "num_usr = spark.sql(\"Select Count(Distinct userId) as Number_of_Users from ratings\")\n",
    "num_usr.show()"
   ]
  },
  {
   "cell_type": "markdown",
   "metadata": {
    "application/vnd.databricks.v1+cell": {
     "cellMetadata": {},
     "inputWidgets": {},
     "nuid": "fbac655f-ed58-443f-8062-37847bb1d8fd",
     "showTitle": false,
     "title": ""
    },
    "id": "yomPYC_XE8Q0"
   },
   "source": [
    "### Q2: The number of Movies"
   ]
  },
  {
   "cell_type": "code",
   "execution_count": 20,
   "metadata": {
    "application/vnd.databricks.v1+cell": {
     "cellMetadata": {},
     "inputWidgets": {},
     "nuid": "0084092d-3b9e-4062-b35a-1986d8dd57e8",
     "showTitle": false,
     "title": ""
    },
    "colab": {
     "base_uri": "https://localhost:8080/"
    },
    "id": "LLGCfbFwE8Q0",
    "outputId": "5cc70229-c8fe-496f-8936-f66165d1a97c"
   },
   "outputs": [
    {
     "name": "stdout",
     "output_type": "stream",
     "text": [
      "+----------------+\n",
      "|Number_of_Movies|\n",
      "+----------------+\n",
      "|            9742|\n",
      "+----------------+\n",
      "\n"
     ]
    }
   ],
   "source": [
    "num_movie = spark.sql(\"Select Count(Distinct movieId) as Number_of_Movies from movies\")\n",
    "num_movie.show()"
   ]
  },
  {
   "cell_type": "markdown",
   "metadata": {
    "application/vnd.databricks.v1+cell": {
     "cellMetadata": {},
     "inputWidgets": {},
     "nuid": "531dd422-165b-4f88-9835-cfe389007d8d",
     "showTitle": false,
     "title": ""
    },
    "id": "MqohEvgNE8Q0"
   },
   "source": [
    "### Q3:  How many movies are rated by users? List movies not rated before"
   ]
  },
  {
   "cell_type": "code",
   "execution_count": 23,
   "metadata": {
    "colab": {
     "base_uri": "https://localhost:8080/"
    },
    "id": "Kc9A7ilBV0oB",
    "outputId": "93a257bd-5d6e-4843-e74a-75ab5d3c3c4c"
   },
   "outputs": [
    {
     "name": "stdout",
     "output_type": "stream",
     "text": [
      "+----------------+\n",
      "|Number_of_Movies|\n",
      "+----------------+\n",
      "|            9724|\n",
      "+----------------+\n",
      "\n"
     ]
    }
   ],
   "source": [
    "rated_movie = spark.sql(\"Select Count(Distinct movieID) as Number_of_Movies from ratings\")\n",
    "rated_movie.show()"
   ]
  },
  {
   "cell_type": "code",
   "execution_count": 36,
   "metadata": {
    "colab": {
     "base_uri": "https://localhost:8080/"
    },
    "id": "idUre7siahb6",
    "outputId": "672fc234-1b95-465b-d91f-a0a56933a7c4"
   },
   "outputs": [
    {
     "name": "stdout",
     "output_type": "stream",
     "text": [
      "+-------+--------------------------------------------+------------------------+\n",
      "|movieId|title                                       |genres                  |\n",
      "+-------+--------------------------------------------+------------------------+\n",
      "|1076   |Innocents, The (1961)                       |Drama|Horror|Thriller   |\n",
      "|2939   |Niagara (1953)                              |Drama|Thriller          |\n",
      "|3338   |For All Mankind (1989)                      |Documentary             |\n",
      "|3456   |Color of Paradise, The (Rang-e khoda) (1999)|Drama                   |\n",
      "|4194   |I Know Where I'm Going! (1945)              |Drama|Romance|War       |\n",
      "|5721   |Chosen, The (1981)                          |Drama                   |\n",
      "|6668   |Road Home, The (Wo de fu qin mu qin) (1999) |Drama|Romance           |\n",
      "|6849   |Scrooge (1970)                              |Drama|Fantasy|Musical   |\n",
      "|7020   |Proof (1991)                                |Comedy|Drama|Romance    |\n",
      "|7792   |Parallax View, The (1974)                   |Thriller                |\n",
      "|8765   |This Gun for Hire (1942)                    |Crime|Film-Noir|Thriller|\n",
      "|25855  |Roaring Twenties, The (1939)                |Crime|Drama|Thriller    |\n",
      "|26085  |Mutiny on the Bounty (1962)                 |Adventure|Drama|Romance |\n",
      "|30892  |In the Realms of the Unreal (2004)          |Animation|Documentary   |\n",
      "|32160  |Twentieth Century (1934)                    |Comedy                  |\n",
      "|32371  |Call Northside 777 (1948)                   |Crime|Drama|Film-Noir   |\n",
      "|34482  |Browning Version, The (1951)                |Drama                   |\n",
      "|85565  |Chalet Girl (2011)                          |Comedy|Romance          |\n",
      "+-------+--------------------------------------------+------------------------+\n",
      "\n"
     ]
    }
   ],
   "source": [
    "not_rated_movie = spark.sql('select * from movies where movieID not in (select movieID from ratings)')\n",
    "not_rated_movie.show(truncate=False)"
   ]
  },
  {
   "cell_type": "markdown",
   "metadata": {
    "application/vnd.databricks.v1+cell": {
     "cellMetadata": {},
     "inputWidgets": {},
     "nuid": "b80ebe1f-d3fa-4117-b6b2-0d87ef16280a",
     "showTitle": false,
     "title": ""
    },
    "id": "OcRFOEjfE8Q0"
   },
   "source": [
    "### Q4: List Movie Genres"
   ]
  },
  {
   "cell_type": "code",
   "execution_count": 35,
   "metadata": {
    "colab": {
     "base_uri": "https://localhost:8080/"
    },
    "id": "GaFhVIUna4kW",
    "outputId": "2d04a8c8-1ce4-4ec9-9dc7-d3329f0a0bdd"
   },
   "outputs": [
    {
     "name": "stdout",
     "output_type": "stream",
     "text": [
      "+-------------------------------------------+\n",
      "|genres                                     |\n",
      "+-------------------------------------------+\n",
      "|Adventure|Animation|Children|Comedy|Fantasy|\n",
      "|Adventure|Children|Fantasy                 |\n",
      "|Comedy|Romance                             |\n",
      "|Comedy|Drama|Romance                       |\n",
      "|Comedy                                     |\n",
      "|Action|Crime|Thriller                      |\n",
      "|Comedy|Romance                             |\n",
      "|Adventure|Children                         |\n",
      "|Action                                     |\n",
      "|Action|Adventure|Thriller                  |\n",
      "|Comedy|Drama|Romance                       |\n",
      "|Comedy|Horror                              |\n",
      "|Adventure|Animation|Children               |\n",
      "|Drama                                      |\n",
      "|Action|Adventure|Romance                   |\n",
      "|Crime|Drama                                |\n",
      "|Drama|Romance                              |\n",
      "|Comedy                                     |\n",
      "|Comedy                                     |\n",
      "|Action|Comedy|Crime|Drama|Thriller         |\n",
      "+-------------------------------------------+\n",
      "only showing top 20 rows\n",
      "\n"
     ]
    }
   ],
   "source": [
    "movie_genre = spark.sql(\"Select genres from movies\")\n",
    "movie_genre.show(truncate=False)"
   ]
  },
  {
   "cell_type": "code",
   "execution_count": 45,
   "metadata": {
    "colab": {
     "base_uri": "https://localhost:8080/"
    },
    "id": "rh2Ekn87fAvG",
    "outputId": "9aa6ed59-f597-45e1-82b8-dcb810647a3e"
   },
   "outputs": [
    {
     "name": "stdout",
     "output_type": "stream",
     "text": [
      "+------------------+\n",
      "|genre             |\n",
      "+------------------+\n",
      "|Crime             |\n",
      "|Romance           |\n",
      "|Thriller          |\n",
      "|Adventure         |\n",
      "|Drama             |\n",
      "|War               |\n",
      "|Documentary       |\n",
      "|Fantasy           |\n",
      "|Mystery           |\n",
      "|Musical           |\n",
      "|Animation         |\n",
      "|Film-Noir         |\n",
      "|(no genres listed)|\n",
      "|IMAX              |\n",
      "|Horror            |\n",
      "|Western           |\n",
      "|Comedy            |\n",
      "|Children          |\n",
      "|Action            |\n",
      "|Sci-Fi            |\n",
      "+------------------+\n",
      "\n"
     ]
    }
   ],
   "source": [
    "movie_genre = spark.sql(\"\"\"\n",
    "    SELECT DISTINCT genre\n",
    "    FROM (\n",
    "        SELECT explode(split(genres, '[|]')) AS genre\n",
    "        FROM movies\n",
    "    )\n",
    "\"\"\")\n",
    "\n",
    "movie_genre.show(truncate=False)"
   ]
  },
  {
   "cell_type": "markdown",
   "metadata": {
    "application/vnd.databricks.v1+cell": {
     "cellMetadata": {},
     "inputWidgets": {},
     "nuid": "9dd29641-a24a-4c54-b16e-78cc2e6f25ee",
     "showTitle": false,
     "title": ""
    },
    "id": "bWdLwzohE8Q1"
   },
   "source": [
    "### Q5: Movie for Each Category"
   ]
  },
  {
   "cell_type": "code",
   "execution_count": 47,
   "metadata": {
    "colab": {
     "base_uri": "https://localhost:8080/"
    },
    "id": "mclCa0NNhDCb",
    "outputId": "3e70f281-aa03-4e92-e645-9038f0e2c834"
   },
   "outputs": [
    {
     "name": "stdout",
     "output_type": "stream",
     "text": [
      "+------------------+------+\n",
      "|Category          |number|\n",
      "+------------------+------+\n",
      "|Drama             |4361  |\n",
      "|Comedy            |3756  |\n",
      "|Thriller          |1894  |\n",
      "|Action            |1828  |\n",
      "|Romance           |1596  |\n",
      "|Adventure         |1263  |\n",
      "|Crime             |1199  |\n",
      "|Sci-Fi            |980   |\n",
      "|Horror            |978   |\n",
      "|Fantasy           |779   |\n",
      "|Children          |664   |\n",
      "|Animation         |611   |\n",
      "|Mystery           |573   |\n",
      "|Documentary       |440   |\n",
      "|War               |382   |\n",
      "|Musical           |334   |\n",
      "|Western           |167   |\n",
      "|IMAX              |158   |\n",
      "|Film-Noir         |87    |\n",
      "|(no genres listed)|34    |\n",
      "+------------------+------+\n",
      "\n"
     ]
    }
   ],
   "source": [
    "num_category = spark.sql(\"\"\"\n",
    "    SELECT genre AS Category, COUNT(*) AS number\n",
    "    FROM (\n",
    "        SELECT explode(split(genres, '[|]')) AS genre\n",
    "        FROM movies\n",
    "    )\n",
    "    GROUP BY genre\n",
    "    ORDER BY number DESC\n",
    "\"\"\")\n",
    "num_category.show(truncate=False)"
   ]
  },
  {
   "cell_type": "code",
   "execution_count": 50,
   "metadata": {
    "colab": {
     "base_uri": "https://localhost:8080/"
    },
    "id": "sHS7nh-uju9p",
    "outputId": "2018af12-300a-44c8-e299-ab1dc7f9d633"
   },
   "outputs": [
    {
     "name": "stdout",
     "output_type": "stream",
     "text": [
      "+------------------+--------------------+\n",
      "|          Category|      list_of_movies|\n",
      "+------------------+--------------------+\n",
      "|             Crime|[Heat (1995), Cas...|\n",
      "|           Romance|[Grumpier Old Men...|\n",
      "|          Thriller|[Heat (1995), Gol...|\n",
      "|         Adventure|[Toy Story (1995)...|\n",
      "|             Drama|[Waiting to Exhal...|\n",
      "|               War|[Richard III (199...|\n",
      "|       Documentary|[Nico Icon (1995)...|\n",
      "|           Fantasy|[Toy Story (1995)...|\n",
      "|           Mystery|[Copycat (1995), ...|\n",
      "|           Musical|[Pocahontas (1995...|\n",
      "|         Animation|[Toy Story (1995)...|\n",
      "|         Film-Noir|[Devil in a Blue ...|\n",
      "|(no genres listed)|[La cravate (1957...|\n",
      "|              IMAX|[Apollo 13 (1995)...|\n",
      "|            Horror|[Dracula: Dead an...|\n",
      "|           Western|[Desperado (1995)...|\n",
      "|            Comedy|[Toy Story (1995)...|\n",
      "|          Children|[Toy Story (1995)...|\n",
      "|            Action|[Heat (1995), Sud...|\n",
      "|            Sci-Fi|[Powder (1995), C...|\n",
      "+------------------+--------------------+\n",
      "\n"
     ]
    }
   ],
   "source": [
    "movie_category_list = spark.sql(\"\"\"\n",
    "    SELECT genre AS Category, collect_list(title) AS list_of_movies\n",
    "    FROM (\n",
    "        SELECT explode(split(genres, '[|]')) AS genre, title\n",
    "        FROM movies\n",
    "    )\n",
    "    GROUP BY genre\n",
    "\"\"\")\n",
    "\n",
    "movie_category_list.show()"
   ]
  },
  {
   "cell_type": "markdown",
   "metadata": {
    "application/vnd.databricks.v1+cell": {
     "cellMetadata": {},
     "inputWidgets": {},
     "nuid": "4f88d5b0-dfda-4ad1-9bdf-6c3e8d8d47c1",
     "showTitle": false,
     "title": ""
    },
    "id": "Ae15ciGuE8Q1"
   },
   "source": [
    "## Part2: Spark ALS based approach for training model\n",
    "We will use an Spark ML to predict the ratings, so let's reload \"ratings.csv\" using ``sc.textFile`` and then convert it to the form of (user, item, rating) tuples."
   ]
  },
  {
   "cell_type": "code",
   "execution_count": 51,
   "metadata": {
    "application/vnd.databricks.v1+cell": {
     "cellMetadata": {},
     "inputWidgets": {},
     "nuid": "368dcb1e-9359-491d-9813-f9e6f374139c",
     "showTitle": false,
     "title": ""
    },
    "colab": {
     "base_uri": "https://localhost:8080/"
    },
    "id": "KeFVsYGfE8Q1",
    "outputId": "ed8de108-871f-4975-bc71-d4c00e394930"
   },
   "outputs": [
    {
     "name": "stdout",
     "output_type": "stream",
     "text": [
      "+------+-------+------+---------+\n",
      "|userId|movieId|rating|timestamp|\n",
      "+------+-------+------+---------+\n",
      "|     1|      1|   4.0|964982703|\n",
      "|     1|      3|   4.0|964981247|\n",
      "|     1|      6|   4.0|964982224|\n",
      "|     1|     47|   5.0|964983815|\n",
      "|     1|     50|   5.0|964982931|\n",
      "|     1|     70|   3.0|964982400|\n",
      "|     1|    101|   5.0|964980868|\n",
      "|     1|    110|   4.0|964982176|\n",
      "|     1|    151|   5.0|964984041|\n",
      "|     1|    157|   5.0|964984100|\n",
      "|     1|    163|   5.0|964983650|\n",
      "|     1|    216|   5.0|964981208|\n",
      "|     1|    223|   3.0|964980985|\n",
      "|     1|    231|   5.0|964981179|\n",
      "|     1|    235|   4.0|964980908|\n",
      "|     1|    260|   5.0|964981680|\n",
      "|     1|    296|   3.0|964982967|\n",
      "|     1|    316|   3.0|964982310|\n",
      "|     1|    333|   5.0|964981179|\n",
      "|     1|    349|   4.0|964982563|\n",
      "+------+-------+------+---------+\n",
      "only showing top 20 rows\n",
      "\n"
     ]
    }
   ],
   "source": [
    "ratings_df.show()"
   ]
  },
  {
   "cell_type": "code",
   "execution_count": 52,
   "metadata": {
    "application/vnd.databricks.v1+cell": {
     "cellMetadata": {},
     "inputWidgets": {},
     "nuid": "11e3347b-5f16-4fa3-ab5b-5a406b9d719b",
     "showTitle": false,
     "title": ""
    },
    "id": "sHq5HiO-E8Q1"
   },
   "outputs": [],
   "source": [
    "movie_ratings=ratings_df.drop('timestamp')"
   ]
  },
  {
   "cell_type": "code",
   "execution_count": 53,
   "metadata": {
    "application/vnd.databricks.v1+cell": {
     "cellMetadata": {},
     "inputWidgets": {},
     "nuid": "c7519b79-2e69-44cb-a27f-d42145915ad5",
     "showTitle": false,
     "title": ""
    },
    "id": "SmR81jsxE8Q1"
   },
   "outputs": [],
   "source": [
    "# Data type convert\n",
    "from pyspark.sql.types import IntegerType, FloatType\n",
    "movie_ratings = movie_ratings.withColumn(\"userId\", movie_ratings[\"userId\"].cast(IntegerType()))\n",
    "movie_ratings = movie_ratings.withColumn(\"movieId\", movie_ratings[\"movieId\"].cast(IntegerType()))\n",
    "movie_ratings = movie_ratings.withColumn(\"rating\", movie_ratings[\"rating\"].cast(FloatType()))"
   ]
  },
  {
   "cell_type": "code",
   "execution_count": 54,
   "metadata": {
    "application/vnd.databricks.v1+cell": {
     "cellMetadata": {},
     "inputWidgets": {},
     "nuid": "a0331c1b-26a9-4874-8217-f7f94f788f2a",
     "showTitle": false,
     "title": ""
    },
    "colab": {
     "base_uri": "https://localhost:8080/"
    },
    "id": "PljWmNq9E8Q1",
    "outputId": "2f40803c-1bf4-4bec-b609-70443fa37766"
   },
   "outputs": [
    {
     "name": "stdout",
     "output_type": "stream",
     "text": [
      "+------+-------+------+\n",
      "|userId|movieId|rating|\n",
      "+------+-------+------+\n",
      "|     1|      1|   4.0|\n",
      "|     1|      3|   4.0|\n",
      "|     1|      6|   4.0|\n",
      "|     1|     47|   5.0|\n",
      "|     1|     50|   5.0|\n",
      "|     1|     70|   3.0|\n",
      "|     1|    101|   5.0|\n",
      "|     1|    110|   4.0|\n",
      "|     1|    151|   5.0|\n",
      "|     1|    157|   5.0|\n",
      "|     1|    163|   5.0|\n",
      "|     1|    216|   5.0|\n",
      "|     1|    223|   3.0|\n",
      "|     1|    231|   5.0|\n",
      "|     1|    235|   4.0|\n",
      "|     1|    260|   5.0|\n",
      "|     1|    296|   3.0|\n",
      "|     1|    316|   3.0|\n",
      "|     1|    333|   5.0|\n",
      "|     1|    349|   4.0|\n",
      "+------+-------+------+\n",
      "only showing top 20 rows\n",
      "\n"
     ]
    }
   ],
   "source": [
    "movie_ratings.show()"
   ]
  },
  {
   "cell_type": "markdown",
   "metadata": {
    "application/vnd.databricks.v1+cell": {
     "cellMetadata": {},
     "inputWidgets": {},
     "nuid": "f8fced8f-9726-4596-9e42-eb3da45bdfae",
     "showTitle": false,
     "title": ""
    },
    "id": "5eye9cy9E8Q1"
   },
   "source": [
    "### ALS Model Selection and Evaluation\n",
    "\n",
    "With the ALS model, we can use a grid search to find the optimal hyperparameters."
   ]
  },
  {
   "cell_type": "code",
   "execution_count": 55,
   "metadata": {
    "application/vnd.databricks.v1+cell": {
     "cellMetadata": {},
     "inputWidgets": {},
     "nuid": "1f1b9a45-4483-43ac-8ddc-0255696a311a",
     "showTitle": false,
     "title": ""
    },
    "id": "y9oSrDWWE8Q1"
   },
   "outputs": [],
   "source": [
    "# import package\n",
    "from pyspark.ml.evaluation import RegressionEvaluator\n",
    "from pyspark.ml.recommendation import ALS\n",
    "from pyspark.ml.tuning import CrossValidator,ParamGridBuilder"
   ]
  },
  {
   "cell_type": "code",
   "execution_count": 56,
   "metadata": {
    "application/vnd.databricks.v1+cell": {
     "cellMetadata": {},
     "inputWidgets": {},
     "nuid": "43a2747c-9853-4e87-8243-d080e6403af5",
     "showTitle": false,
     "title": ""
    },
    "id": "uO4q_uuDE8Q1"
   },
   "outputs": [],
   "source": [
    "#Create test and train set\n",
    "(training,test)=movie_ratings.randomSplit([0.8,0.2])"
   ]
  },
  {
   "cell_type": "code",
   "execution_count": 83,
   "metadata": {
    "application/vnd.databricks.v1+cell": {
     "cellMetadata": {},
     "inputWidgets": {},
     "nuid": "5a4f8daa-3be8-4b46-a3fa-3137f0b0af6f",
     "showTitle": false,
     "title": ""
    },
    "id": "mopJt4JSE8Q1"
   },
   "outputs": [],
   "source": [
    "#Create ALS model\n",
    "als_model = ALS(\n",
    "    rank = 10,\n",
    "    maxIter = 5,\n",
    "    regParam = 0.01,\n",
    "    userCol = \"userId\",\n",
    "    itemCol = \"movieId\",\n",
    "    ratingCol = \"rating\",\n",
    "    coldStartStrategy = \"drop\",\n",
    "    seed = 6\n",
    ")"
   ]
  },
  {
   "cell_type": "code",
   "execution_count": 84,
   "metadata": {
    "application/vnd.databricks.v1+cell": {
     "cellMetadata": {},
     "inputWidgets": {},
     "nuid": "2b8ba943-2d3a-4013-8d80-42806d1db558",
     "showTitle": false,
     "title": ""
    },
    "id": "1oywnmeZE8Q1"
   },
   "outputs": [],
   "source": [
    "#Tune model using ParamGridBuilder\n",
    "paramGrid = ParamGridBuilder() \\\n",
    "    .addGrid(als_model.rank, [5, 10, 15, 20, 25])\\\n",
    "    .addGrid(als_model.regParam, [0.1, 0.01, 0.001])\\\n",
    "    .addGrid(als_model.maxIter, [3, 5, 10])\\\n",
    "    .addGrid(als_model.alpha, [0.1, 0.01, 0.001])\\\n",
    "    .build()"
   ]
  },
  {
   "cell_type": "code",
   "execution_count": 85,
   "metadata": {
    "application/vnd.databricks.v1+cell": {
     "cellMetadata": {},
     "inputWidgets": {},
     "nuid": "dcaac224-4205-4385-9802-6d4b17e3209d",
     "showTitle": false,
     "title": ""
    },
    "id": "a4pdisbnE8Q1"
   },
   "outputs": [],
   "source": [
    "# Define evaluator as RMSE\n",
    "evaluator = RegressionEvaluator(\n",
    "    metricName=\"rmse\",\n",
    "    labelCol=\"rating\",\n",
    "    predictionCol=\"prediction\"\n",
    ")"
   ]
  },
  {
   "cell_type": "code",
   "execution_count": 88,
   "metadata": {
    "application/vnd.databricks.v1+cell": {
     "cellMetadata": {},
     "inputWidgets": {},
     "nuid": "6d681ab5-8d48-4c10-9b91-d1c11ec8dfc0",
     "showTitle": false,
     "title": ""
    },
    "id": "7-p2e5r7E8Q1"
   },
   "outputs": [],
   "source": [
    "# Build Cross validation\n",
    "crossval = CrossValidator(\n",
    "    estimator=als_model,\n",
    "    estimatorParamMaps=paramGrid,\n",
    "    evaluator=evaluator,\n",
    "    numFolds=5,\n",
    "    seed=6\n",
    ")"
   ]
  },
  {
   "cell_type": "code",
   "execution_count": 89,
   "metadata": {
    "application/vnd.databricks.v1+cell": {
     "cellMetadata": {},
     "inputWidgets": {},
     "nuid": "14943456-de4f-4c5b-8e13-3e4d5eb73b19",
     "showTitle": false,
     "title": ""
    },
    "id": "DKczqGDoE8Q1"
   },
   "outputs": [],
   "source": [
    "#Fit ALS model to training data\n",
    "import time\n",
    "start_time = time.time()\n",
    "model = crossval.fit(training)\n",
    "end_time = time.time()"
   ]
  },
  {
   "cell_type": "code",
   "execution_count": 90,
   "metadata": {
    "application/vnd.databricks.v1+cell": {
     "cellMetadata": {},
     "inputWidgets": {},
     "nuid": "b57cf752-da86-44f1-b1d7-adaa247b0fc7",
     "showTitle": false,
     "title": ""
    },
    "colab": {
     "base_uri": "https://localhost:8080/"
    },
    "id": "0NYzvSeaE8Q1",
    "outputId": "91551c8d-433a-4d10-d206-e9e366d7bcb2"
   },
   "outputs": [
    {
     "name": "stdout",
     "output_type": "stream",
     "text": [
      "Best ALS model parameters by CV:\n",
      "-> rank: 25\n",
      "-> regParam: 0.1\n",
      "-> maxIter: 10\n",
      "-> alpha: 0.1\n",
      "Root-mean-square error for training data is 0.4818740526428917\n"
     ]
    }
   ],
   "source": [
    "#Extract best model from the tuning exercise using ParamGridBuilder\n",
    "bestModel=model.bestModel\n",
    "best_params = model.getEstimatorParamMaps()[np.argmin(model.avgMetrics)]\n",
    "print('Best ALS model parameters by CV:')\n",
    "for i,j in best_params.items():\n",
    "  print('-> '+i.name+': '+str(j))\n",
    "\n",
    "prediction_train=model.transform(training)\n",
    "rmse_train = evaluator.evaluate(prediction_train)\n",
    "print(\"Root-mean-square error for training data is \" + str(rmse_train))"
   ]
  },
  {
   "cell_type": "markdown",
   "metadata": {
    "application/vnd.databricks.v1+cell": {
     "cellMetadata": {},
     "inputWidgets": {},
     "nuid": "7753ebce-2e72-4c54-86d5-ad8db558e870",
     "showTitle": false,
     "title": ""
    },
    "id": "yfQd3obWE8Q1"
   },
   "source": [
    "### Model testing\n",
    "And finally, make a prediction and check the testing error."
   ]
  },
  {
   "cell_type": "code",
   "execution_count": 92,
   "metadata": {
    "application/vnd.databricks.v1+cell": {
     "cellMetadata": {},
     "inputWidgets": {},
     "nuid": "b144bfac-2851-444f-a165-4c9cd19de999",
     "showTitle": false,
     "title": ""
    },
    "id": "p0P-GfkJE8Q1"
   },
   "outputs": [],
   "source": [
    "#Generate predictions and evaluate using RMSE\n",
    "predictions=bestModel.transform(test)\n",
    "rmse = evaluator.evaluate(predictions)"
   ]
  },
  {
   "cell_type": "code",
   "execution_count": 94,
   "metadata": {
    "application/vnd.databricks.v1+cell": {
     "cellMetadata": {},
     "inputWidgets": {},
     "nuid": "e63a2bae-ec36-43b9-a2e2-981b39051b95",
     "showTitle": false,
     "title": ""
    },
    "colab": {
     "base_uri": "https://localhost:8080/"
    },
    "id": "EoIHQRhtE8Q1",
    "outputId": "9d12b024-86ca-42ef-df7c-01b1903763a1"
   },
   "outputs": [
    {
     "name": "stdout",
     "output_type": "stream",
     "text": [
      "RMSE = 0.8826439394838237\n",
      "**Best Model**\n",
      " Rank:  25\n",
      " MaxIter:  10\n",
      " RegParam:  0.1\n"
     ]
    }
   ],
   "source": [
    "#Print evaluation metrics and model parameters\n",
    "print (\"RMSE = \"+str(rmse))\n",
    "print (\"**Best Model**\")\n",
    "print (\" Rank: \", str(bestModel._java_obj.parent().getRank())),\n",
    "print (\" MaxIter: \", str(bestModel._java_obj.parent().getMaxIter())),\n",
    "print (\" RegParam: \", str(bestModel._java_obj.parent().getRegParam()))"
   ]
  },
  {
   "cell_type": "code",
   "execution_count": 95,
   "metadata": {
    "application/vnd.databricks.v1+cell": {
     "cellMetadata": {},
     "inputWidgets": {},
     "nuid": "7bc6747f-d719-4238-a104-0fc2e6de7432",
     "showTitle": false,
     "title": ""
    },
    "colab": {
     "base_uri": "https://localhost:8080/"
    },
    "id": "TO57F_uNE8Q1",
    "outputId": "310c5c31-d0c6-4ca6-e2e5-1a94877bb26e"
   },
   "outputs": [
    {
     "name": "stdout",
     "output_type": "stream",
     "text": [
      "+------+-------+------+----------+\n",
      "|userId|movieId|rating|prediction|\n",
      "+------+-------+------+----------+\n",
      "|   137|   1580|   3.5|  3.390127|\n",
      "|   580|   1580|   4.0| 3.3505359|\n",
      "|   322|   1580|   3.5| 3.0585606|\n",
      "|   362|   1645|   5.0| 3.6939654|\n",
      "|   593|   1580|   1.5|  3.222214|\n",
      "|   597|   1580|   3.0| 3.5908246|\n",
      "|   597|   1959|   4.0|  4.074137|\n",
      "|   368|   2366|   4.0| 3.5536225|\n",
      "|    28|   1580|   3.0| 3.0961149|\n",
      "|   587|   1580|   4.0|  4.073407|\n",
      "|   587|   3175|   5.0| 4.2180715|\n",
      "|    27|   1580|   3.0| 3.5590591|\n",
      "|   332|   1645|   3.5| 2.9509902|\n",
      "|   577|   1580|   3.0| 3.3064036|\n",
      "|   606|   1580|   2.5| 3.3959742|\n",
      "|   606|   1829|   3.5| 1.9650246|\n",
      "|   388|  44022|   4.5| 3.1383395|\n",
      "|   602|    471|   4.0| 3.1731167|\n",
      "|    91|    471|   1.0|  3.026765|\n",
      "|    91|   1645|   3.0|  3.621868|\n",
      "+------+-------+------+----------+\n",
      "only showing top 20 rows\n",
      "\n"
     ]
    }
   ],
   "source": [
    "predictions.show()"
   ]
  },
  {
   "cell_type": "markdown",
   "metadata": {
    "application/vnd.databricks.v1+cell": {
     "cellMetadata": {},
     "inputWidgets": {},
     "nuid": "b81f5c05-6034-4709-a2a3-4c04359f0bdf",
     "showTitle": false,
     "title": ""
    },
    "id": "uO4XbpwuE8Q2"
   },
   "source": [
    "### Model apply and see the performance"
   ]
  },
  {
   "cell_type": "code",
   "execution_count": 96,
   "metadata": {
    "application/vnd.databricks.v1+cell": {
     "cellMetadata": {},
     "inputWidgets": {},
     "nuid": "17ee8d22-e9d3-4df9-a4ac-6bf024cf2650",
     "showTitle": false,
     "title": ""
    },
    "colab": {
     "base_uri": "https://localhost:8080/"
    },
    "id": "LvxVsAJ-E8Q2",
    "outputId": "d7ee40df-d51f-4fc3-ada8-d5a74025f715"
   },
   "outputs": [
    {
     "name": "stdout",
     "output_type": "stream",
     "text": [
      "RMSE = 0.58334755662859\n"
     ]
    }
   ],
   "source": [
    "alldata=bestModel.transform(movie_ratings)\n",
    "rmse = evaluator.evaluate(alldata)\n",
    "print (\"RMSE = \"+str(rmse))"
   ]
  },
  {
   "cell_type": "code",
   "execution_count": 97,
   "metadata": {
    "application/vnd.databricks.v1+cell": {
     "cellMetadata": {},
     "inputWidgets": {},
     "nuid": "8bc372ad-5dd7-4eb3-9f56-10dabb7fb219",
     "showTitle": false,
     "title": ""
    },
    "colab": {
     "base_uri": "https://localhost:8080/"
    },
    "id": "NRB_q85sE8Q2",
    "outputId": "252fd52e-a9f9-4b24-c695-967bdc981ed3"
   },
   "outputs": [
    {
     "name": "stderr",
     "output_type": "stream",
     "text": [
      "/content/spark-3.2.1-bin-hadoop3.2/python/pyspark/sql/dataframe.py:138: FutureWarning: Deprecated in 2.0, use createOrReplaceTempView instead.\n",
      "  warnings.warn(\n"
     ]
    }
   ],
   "source": [
    "alldata.registerTempTable(\"alldata\")"
   ]
  },
  {
   "cell_type": "code",
   "execution_count": 100,
   "metadata": {
    "colab": {
     "base_uri": "https://localhost:8080/"
    },
    "id": "EuqGTJZRbMO6",
    "outputId": "e16e575a-e7d2-4018-d728-c9ba4f351b01"
   },
   "outputs": [
    {
     "name": "stdout",
     "output_type": "stream",
     "text": [
      "+------+-------+------+----------+\n",
      "|userId|movieId|rating|prediction|\n",
      "+------+-------+------+----------+\n",
      "|463   |1088   |3.5   |3.4004312 |\n",
      "|137   |1580   |3.5   |3.390127  |\n",
      "|580   |1580   |4.0   |3.3505359 |\n",
      "|580   |3175   |2.5   |3.3571498 |\n",
      "|580   |44022  |3.5   |3.423721  |\n",
      "|133   |471    |4.0   |3.544727  |\n",
      "|322   |1580   |3.5   |3.0585606 |\n",
      "|362   |1591   |4.0   |3.242827  |\n",
      "|362   |1645   |5.0   |3.6939654 |\n",
      "|593   |1580   |1.5   |3.222214  |\n",
      "|597   |471    |2.0   |3.3143203 |\n",
      "|597   |1580   |3.0   |3.5908246 |\n",
      "|597   |1959   |4.0   |4.074137  |\n",
      "|597   |2366   |5.0   |4.421212  |\n",
      "|108   |1959   |5.0   |4.603735  |\n",
      "|155   |1580   |4.0   |3.9388194 |\n",
      "|155   |3175   |4.0   |4.015964  |\n",
      "|34    |1580   |2.5   |3.0300171 |\n",
      "|34    |3997   |2.0   |1.8331724 |\n",
      "|368   |1580   |3.0   |3.1835866 |\n",
      "+------+-------+------+----------+\n",
      "only showing top 20 rows\n",
      "\n"
     ]
    }
   ],
   "source": [
    "all_data = spark.sql(\"select * from alldata\")\n",
    "all_data.show(truncate=False)"
   ]
  },
  {
   "cell_type": "code",
   "execution_count": 101,
   "metadata": {
    "colab": {
     "base_uri": "https://localhost:8080/"
    },
    "id": "MSuJqyvZbeTF",
    "outputId": "659f807a-a514-4188-b9ff-26bb54e6d083"
   },
   "outputs": [
    {
     "name": "stdout",
     "output_type": "stream",
     "text": [
      "+-------+--------------------------------+-----------------------------------+------+-------+------+----------+\n",
      "|movieId|title                           |genres                             |userId|movieId|rating|prediction|\n",
      "+-------+--------------------------------+-----------------------------------+------+-------+------+----------+\n",
      "|1088   |Dirty Dancing (1987)            |Drama|Musical|Romance              |463   |1088   |3.5   |3.4004312 |\n",
      "|1580   |Men in Black (a.k.a. MIB) (1997)|Action|Comedy|Sci-Fi               |137   |1580   |3.5   |3.390127  |\n",
      "|1580   |Men in Black (a.k.a. MIB) (1997)|Action|Comedy|Sci-Fi               |580   |1580   |4.0   |3.3505359 |\n",
      "|3175   |Galaxy Quest (1999)             |Adventure|Comedy|Sci-Fi            |580   |3175   |2.5   |3.3571498 |\n",
      "|44022  |Ice Age 2: The Meltdown (2006)  |Adventure|Animation|Children|Comedy|580   |44022  |3.5   |3.423721  |\n",
      "|471    |Hudsucker Proxy, The (1994)     |Comedy                             |133   |471    |4.0   |3.544727  |\n",
      "|1580   |Men in Black (a.k.a. MIB) (1997)|Action|Comedy|Sci-Fi               |322   |1580   |3.5   |3.0585606 |\n",
      "|1591   |Spawn (1997)                    |Action|Adventure|Sci-Fi|Thriller   |362   |1591   |4.0   |3.242827  |\n",
      "|1645   |The Devil's Advocate (1997)     |Drama|Mystery|Thriller             |362   |1645   |5.0   |3.6939654 |\n",
      "|1580   |Men in Black (a.k.a. MIB) (1997)|Action|Comedy|Sci-Fi               |593   |1580   |1.5   |3.222214  |\n",
      "|471    |Hudsucker Proxy, The (1994)     |Comedy                             |597   |471    |2.0   |3.3143203 |\n",
      "|1580   |Men in Black (a.k.a. MIB) (1997)|Action|Comedy|Sci-Fi               |597   |1580   |3.0   |3.5908246 |\n",
      "|1959   |Out of Africa (1985)            |Drama|Romance                      |597   |1959   |4.0   |4.074137  |\n",
      "|2366   |King Kong (1933)                |Action|Adventure|Fantasy|Horror    |597   |2366   |5.0   |4.421212  |\n",
      "|1959   |Out of Africa (1985)            |Drama|Romance                      |108   |1959   |5.0   |4.603735  |\n",
      "|1580   |Men in Black (a.k.a. MIB) (1997)|Action|Comedy|Sci-Fi               |155   |1580   |4.0   |3.9388194 |\n",
      "|3175   |Galaxy Quest (1999)             |Adventure|Comedy|Sci-Fi            |155   |3175   |4.0   |4.015964  |\n",
      "|1580   |Men in Black (a.k.a. MIB) (1997)|Action|Comedy|Sci-Fi               |34    |1580   |2.5   |3.0300171 |\n",
      "|3997   |Dungeons & Dragons (2000)       |Action|Adventure|Comedy|Fantasy    |34    |3997   |2.0   |1.8331724 |\n",
      "|1580   |Men in Black (a.k.a. MIB) (1997)|Action|Comedy|Sci-Fi               |368   |1580   |3.0   |3.1835866 |\n",
      "+-------+--------------------------------+-----------------------------------+------+-------+------+----------+\n",
      "only showing top 20 rows\n",
      "\n"
     ]
    }
   ],
   "source": [
    "spark.sql(\"select * from movies join alldata on movies.movieId=alldata.movieId\").show(truncate=False)"
   ]
  },
  {
   "cell_type": "markdown",
   "metadata": {
    "application/vnd.databricks.v1+cell": {
     "cellMetadata": {},
     "inputWidgets": {},
     "nuid": "463ed6ee-ce80-4a06-86f3-d44d734b771d",
     "showTitle": false,
     "title": ""
    },
    "id": "y0kHq_EIE8Q2"
   },
   "source": [
    "## Recommend moive to users with id: 575, 232.\n",
    "you can choose some users to recommend the moives"
   ]
  },
  {
   "cell_type": "code",
   "execution_count": 114,
   "metadata": {
    "id": "h-ykyl-wfh4y"
   },
   "outputs": [],
   "source": [
    "def TopRecommend(k,id,model):\n",
    "  all_recommended = model.recommendForAllUsers(k)\n",
    "  user_recommended = all_recommended.where(all_recommended.userId==id).toPandas()\n",
    "\n",
    "  if user_recommended.shape[0]==0:\n",
    "    print(f\"No recommendations found for user with ID {user_id}\")\n",
    "    return None\n",
    "\n",
    "  user_recommended = user_recommended.iloc[0,1]\n",
    "  user_recommended = pd.DataFrame(user_recommended, columns=['movieId', 'predicted_ratings'])\n",
    "  recommendations = None\n",
    "\n",
    "  for movie_id in user_recommended['movieId']:\n",
    "    if recommendations is None:\n",
    "      recommendations = movies_df.where(movies_df.movieId==str(movie_id))\n",
    "    else:\n",
    "      recommendations = recommendations.union(movies_df.where(movies_df.movieId==str(movie_id)))\n",
    "\n",
    "  recommendations = pd.concat([recommendations.toPandas(), user_recommended['predicted_ratings']], axis=1)\n",
    "  recommendations.index = range(1, k+1)\n",
    "\n",
    "  return recommendations"
   ]
  },
  {
   "cell_type": "code",
   "execution_count": 116,
   "metadata": {
    "colab": {
     "base_uri": "https://localhost:8080/",
     "height": 555
    },
    "id": "IDyffZ-LjyRs",
    "outputId": "15de7358-d250-403c-fa3d-9af5c8e83e3a"
   },
   "outputs": [
    {
     "name": "stderr",
     "output_type": "stream",
     "text": [
      "/content/spark-3.2.1-bin-hadoop3.2/python/pyspark/sql/context.py:125: FutureWarning: Deprecated in 3.0.0. Use SparkSession.builder.getOrCreate() instead.\n",
      "  warnings.warn(\n"
     ]
    },
    {
     "data": {
      "application/vnd.google.colaboratory.intrinsic+json": {
       "summary": "{\n  \"name\": \"TopRecommend(15,575,bestModel)\",\n  \"rows\": 15,\n  \"fields\": [\n    {\n      \"column\": \"movieId\",\n      \"properties\": {\n        \"dtype\": \"string\",\n        \"num_unique_values\": 15,\n        \"samples\": [\n          \"6442\",\n          \"1222\",\n          \"1411\"\n        ],\n        \"semantic_type\": \"\",\n        \"description\": \"\"\n      }\n    },\n    {\n      \"column\": \"title\",\n      \"properties\": {\n        \"dtype\": \"string\",\n        \"num_unique_values\": 15,\n        \"samples\": [\n          \"Belle \\u00e9poque (1992)\",\n          \"Full Metal Jacket (1987)\",\n          \"Hamlet (1996)\"\n        ],\n        \"semantic_type\": \"\",\n        \"description\": \"\"\n      }\n    },\n    {\n      \"column\": \"genres\",\n      \"properties\": {\n        \"dtype\": \"string\",\n        \"num_unique_values\": 11,\n        \"samples\": [\n          \"Documentary\",\n          \"Crime|Drama|Romance\",\n          \"Comedy|Crime|Drama\"\n        ],\n        \"semantic_type\": \"\",\n        \"description\": \"\"\n      }\n    },\n    {\n      \"column\": \"predicted_ratings\",\n      \"properties\": {\n        \"dtype\": \"number\",\n        \"std\": 0.11715421735403181,\n        \"min\": 4.589394569396973,\n        \"max\": 4.935854911804199,\n        \"num_unique_values\": 15,\n        \"samples\": [\n          4.6109843254089355,\n          4.6086883544921875,\n          4.935854911804199\n        ],\n        \"semantic_type\": \"\",\n        \"description\": \"\"\n      }\n    }\n  ]\n}",
       "type": "dataframe"
      },
      "text/html": [
       "\n",
       "  <div id=\"df-61cafbe1-4565-4fd1-a1a2-4b641e0229b8\" class=\"colab-df-container\">\n",
       "    <div>\n",
       "<style scoped>\n",
       "    .dataframe tbody tr th:only-of-type {\n",
       "        vertical-align: middle;\n",
       "    }\n",
       "\n",
       "    .dataframe tbody tr th {\n",
       "        vertical-align: top;\n",
       "    }\n",
       "\n",
       "    .dataframe thead th {\n",
       "        text-align: right;\n",
       "    }\n",
       "</style>\n",
       "<table border=\"1\" class=\"dataframe\">\n",
       "  <thead>\n",
       "    <tr style=\"text-align: right;\">\n",
       "      <th></th>\n",
       "      <th>movieId</th>\n",
       "      <th>title</th>\n",
       "      <th>genres</th>\n",
       "      <th>predicted_ratings</th>\n",
       "    </tr>\n",
       "  </thead>\n",
       "  <tbody>\n",
       "    <tr>\n",
       "      <th>1</th>\n",
       "      <td>1411</td>\n",
       "      <td>Hamlet (1996)</td>\n",
       "      <td>Crime|Drama|Romance</td>\n",
       "      <td>4.935855</td>\n",
       "    </tr>\n",
       "    <tr>\n",
       "      <th>2</th>\n",
       "      <td>177593</td>\n",
       "      <td>Three Billboards Outside Ebbing, Missouri (2017)</td>\n",
       "      <td>Crime|Drama</td>\n",
       "      <td>4.914150</td>\n",
       "    </tr>\n",
       "    <tr>\n",
       "      <th>3</th>\n",
       "      <td>4973</td>\n",
       "      <td>Amelie (Fabuleux destin d'Amélie Poulain, Le) ...</td>\n",
       "      <td>Comedy|Romance</td>\n",
       "      <td>4.853640</td>\n",
       "    </tr>\n",
       "    <tr>\n",
       "      <th>4</th>\n",
       "      <td>296</td>\n",
       "      <td>Pulp Fiction (1994)</td>\n",
       "      <td>Comedy|Crime|Drama|Thriller</td>\n",
       "      <td>4.758360</td>\n",
       "    </tr>\n",
       "    <tr>\n",
       "      <th>5</th>\n",
       "      <td>430</td>\n",
       "      <td>Calendar Girl (1993)</td>\n",
       "      <td>Comedy|Drama</td>\n",
       "      <td>4.756208</td>\n",
       "    </tr>\n",
       "    <tr>\n",
       "      <th>6</th>\n",
       "      <td>608</td>\n",
       "      <td>Fargo (1996)</td>\n",
       "      <td>Comedy|Crime|Drama|Thriller</td>\n",
       "      <td>4.740830</td>\n",
       "    </tr>\n",
       "    <tr>\n",
       "      <th>7</th>\n",
       "      <td>7096</td>\n",
       "      <td>Rivers and Tides (2001)</td>\n",
       "      <td>Documentary</td>\n",
       "      <td>4.716104</td>\n",
       "    </tr>\n",
       "    <tr>\n",
       "      <th>8</th>\n",
       "      <td>1732</td>\n",
       "      <td>Big Lebowski, The (1998)</td>\n",
       "      <td>Comedy|Crime</td>\n",
       "      <td>4.694263</td>\n",
       "    </tr>\n",
       "    <tr>\n",
       "      <th>9</th>\n",
       "      <td>16</td>\n",
       "      <td>Casino (1995)</td>\n",
       "      <td>Crime|Drama</td>\n",
       "      <td>4.644830</td>\n",
       "    </tr>\n",
       "    <tr>\n",
       "      <th>10</th>\n",
       "      <td>6442</td>\n",
       "      <td>Belle époque (1992)</td>\n",
       "      <td>Comedy|Romance</td>\n",
       "      <td>4.610984</td>\n",
       "    </tr>\n",
       "    <tr>\n",
       "      <th>11</th>\n",
       "      <td>318</td>\n",
       "      <td>Shawshank Redemption, The (1994)</td>\n",
       "      <td>Crime|Drama</td>\n",
       "      <td>4.610054</td>\n",
       "    </tr>\n",
       "    <tr>\n",
       "      <th>12</th>\n",
       "      <td>1222</td>\n",
       "      <td>Full Metal Jacket (1987)</td>\n",
       "      <td>Drama|War</td>\n",
       "      <td>4.608688</td>\n",
       "    </tr>\n",
       "    <tr>\n",
       "      <th>13</th>\n",
       "      <td>26171</td>\n",
       "      <td>Play Time (a.k.a. Playtime) (1967)</td>\n",
       "      <td>Comedy</td>\n",
       "      <td>4.606765</td>\n",
       "    </tr>\n",
       "    <tr>\n",
       "      <th>14</th>\n",
       "      <td>778</td>\n",
       "      <td>Trainspotting (1996)</td>\n",
       "      <td>Comedy|Crime|Drama</td>\n",
       "      <td>4.593240</td>\n",
       "    </tr>\n",
       "    <tr>\n",
       "      <th>15</th>\n",
       "      <td>6460</td>\n",
       "      <td>Trial, The (Procès, Le) (1962)</td>\n",
       "      <td>Drama</td>\n",
       "      <td>4.589395</td>\n",
       "    </tr>\n",
       "  </tbody>\n",
       "</table>\n",
       "</div>\n",
       "    <div class=\"colab-df-buttons\">\n",
       "\n",
       "  <div class=\"colab-df-container\">\n",
       "    <button class=\"colab-df-convert\" onclick=\"convertToInteractive('df-61cafbe1-4565-4fd1-a1a2-4b641e0229b8')\"\n",
       "            title=\"Convert this dataframe to an interactive table.\"\n",
       "            style=\"display:none;\">\n",
       "\n",
       "  <svg xmlns=\"http://www.w3.org/2000/svg\" height=\"24px\" viewBox=\"0 -960 960 960\">\n",
       "    <path d=\"M120-120v-720h720v720H120Zm60-500h600v-160H180v160Zm220 220h160v-160H400v160Zm0 220h160v-160H400v160ZM180-400h160v-160H180v160Zm440 0h160v-160H620v160ZM180-180h160v-160H180v160Zm440 0h160v-160H620v160Z\"/>\n",
       "  </svg>\n",
       "    </button>\n",
       "\n",
       "  <style>\n",
       "    .colab-df-container {\n",
       "      display:flex;\n",
       "      gap: 12px;\n",
       "    }\n",
       "\n",
       "    .colab-df-convert {\n",
       "      background-color: #E8F0FE;\n",
       "      border: none;\n",
       "      border-radius: 50%;\n",
       "      cursor: pointer;\n",
       "      display: none;\n",
       "      fill: #1967D2;\n",
       "      height: 32px;\n",
       "      padding: 0 0 0 0;\n",
       "      width: 32px;\n",
       "    }\n",
       "\n",
       "    .colab-df-convert:hover {\n",
       "      background-color: #E2EBFA;\n",
       "      box-shadow: 0px 1px 2px rgba(60, 64, 67, 0.3), 0px 1px 3px 1px rgba(60, 64, 67, 0.15);\n",
       "      fill: #174EA6;\n",
       "    }\n",
       "\n",
       "    .colab-df-buttons div {\n",
       "      margin-bottom: 4px;\n",
       "    }\n",
       "\n",
       "    [theme=dark] .colab-df-convert {\n",
       "      background-color: #3B4455;\n",
       "      fill: #D2E3FC;\n",
       "    }\n",
       "\n",
       "    [theme=dark] .colab-df-convert:hover {\n",
       "      background-color: #434B5C;\n",
       "      box-shadow: 0px 1px 3px 1px rgba(0, 0, 0, 0.15);\n",
       "      filter: drop-shadow(0px 1px 2px rgba(0, 0, 0, 0.3));\n",
       "      fill: #FFFFFF;\n",
       "    }\n",
       "  </style>\n",
       "\n",
       "    <script>\n",
       "      const buttonEl =\n",
       "        document.querySelector('#df-61cafbe1-4565-4fd1-a1a2-4b641e0229b8 button.colab-df-convert');\n",
       "      buttonEl.style.display =\n",
       "        google.colab.kernel.accessAllowed ? 'block' : 'none';\n",
       "\n",
       "      async function convertToInteractive(key) {\n",
       "        const element = document.querySelector('#df-61cafbe1-4565-4fd1-a1a2-4b641e0229b8');\n",
       "        const dataTable =\n",
       "          await google.colab.kernel.invokeFunction('convertToInteractive',\n",
       "                                                    [key], {});\n",
       "        if (!dataTable) return;\n",
       "\n",
       "        const docLinkHtml = 'Like what you see? Visit the ' +\n",
       "          '<a target=\"_blank\" href=https://colab.research.google.com/notebooks/data_table.ipynb>data table notebook</a>'\n",
       "          + ' to learn more about interactive tables.';\n",
       "        element.innerHTML = '';\n",
       "        dataTable['output_type'] = 'display_data';\n",
       "        await google.colab.output.renderOutput(dataTable, element);\n",
       "        const docLink = document.createElement('div');\n",
       "        docLink.innerHTML = docLinkHtml;\n",
       "        element.appendChild(docLink);\n",
       "      }\n",
       "    </script>\n",
       "  </div>\n",
       "\n",
       "\n",
       "<div id=\"df-f05dc7d9-48b0-41cd-9753-86b9cfa32f53\">\n",
       "  <button class=\"colab-df-quickchart\" onclick=\"quickchart('df-f05dc7d9-48b0-41cd-9753-86b9cfa32f53')\"\n",
       "            title=\"Suggest charts\"\n",
       "            style=\"display:none;\">\n",
       "\n",
       "<svg xmlns=\"http://www.w3.org/2000/svg\" height=\"24px\"viewBox=\"0 0 24 24\"\n",
       "     width=\"24px\">\n",
       "    <g>\n",
       "        <path d=\"M19 3H5c-1.1 0-2 .9-2 2v14c0 1.1.9 2 2 2h14c1.1 0 2-.9 2-2V5c0-1.1-.9-2-2-2zM9 17H7v-7h2v7zm4 0h-2V7h2v10zm4 0h-2v-4h2v4z\"/>\n",
       "    </g>\n",
       "</svg>\n",
       "  </button>\n",
       "\n",
       "<style>\n",
       "  .colab-df-quickchart {\n",
       "      --bg-color: #E8F0FE;\n",
       "      --fill-color: #1967D2;\n",
       "      --hover-bg-color: #E2EBFA;\n",
       "      --hover-fill-color: #174EA6;\n",
       "      --disabled-fill-color: #AAA;\n",
       "      --disabled-bg-color: #DDD;\n",
       "  }\n",
       "\n",
       "  [theme=dark] .colab-df-quickchart {\n",
       "      --bg-color: #3B4455;\n",
       "      --fill-color: #D2E3FC;\n",
       "      --hover-bg-color: #434B5C;\n",
       "      --hover-fill-color: #FFFFFF;\n",
       "      --disabled-bg-color: #3B4455;\n",
       "      --disabled-fill-color: #666;\n",
       "  }\n",
       "\n",
       "  .colab-df-quickchart {\n",
       "    background-color: var(--bg-color);\n",
       "    border: none;\n",
       "    border-radius: 50%;\n",
       "    cursor: pointer;\n",
       "    display: none;\n",
       "    fill: var(--fill-color);\n",
       "    height: 32px;\n",
       "    padding: 0;\n",
       "    width: 32px;\n",
       "  }\n",
       "\n",
       "  .colab-df-quickchart:hover {\n",
       "    background-color: var(--hover-bg-color);\n",
       "    box-shadow: 0 1px 2px rgba(60, 64, 67, 0.3), 0 1px 3px 1px rgba(60, 64, 67, 0.15);\n",
       "    fill: var(--button-hover-fill-color);\n",
       "  }\n",
       "\n",
       "  .colab-df-quickchart-complete:disabled,\n",
       "  .colab-df-quickchart-complete:disabled:hover {\n",
       "    background-color: var(--disabled-bg-color);\n",
       "    fill: var(--disabled-fill-color);\n",
       "    box-shadow: none;\n",
       "  }\n",
       "\n",
       "  .colab-df-spinner {\n",
       "    border: 2px solid var(--fill-color);\n",
       "    border-color: transparent;\n",
       "    border-bottom-color: var(--fill-color);\n",
       "    animation:\n",
       "      spin 1s steps(1) infinite;\n",
       "  }\n",
       "\n",
       "  @keyframes spin {\n",
       "    0% {\n",
       "      border-color: transparent;\n",
       "      border-bottom-color: var(--fill-color);\n",
       "      border-left-color: var(--fill-color);\n",
       "    }\n",
       "    20% {\n",
       "      border-color: transparent;\n",
       "      border-left-color: var(--fill-color);\n",
       "      border-top-color: var(--fill-color);\n",
       "    }\n",
       "    30% {\n",
       "      border-color: transparent;\n",
       "      border-left-color: var(--fill-color);\n",
       "      border-top-color: var(--fill-color);\n",
       "      border-right-color: var(--fill-color);\n",
       "    }\n",
       "    40% {\n",
       "      border-color: transparent;\n",
       "      border-right-color: var(--fill-color);\n",
       "      border-top-color: var(--fill-color);\n",
       "    }\n",
       "    60% {\n",
       "      border-color: transparent;\n",
       "      border-right-color: var(--fill-color);\n",
       "    }\n",
       "    80% {\n",
       "      border-color: transparent;\n",
       "      border-right-color: var(--fill-color);\n",
       "      border-bottom-color: var(--fill-color);\n",
       "    }\n",
       "    90% {\n",
       "      border-color: transparent;\n",
       "      border-bottom-color: var(--fill-color);\n",
       "    }\n",
       "  }\n",
       "</style>\n",
       "\n",
       "  <script>\n",
       "    async function quickchart(key) {\n",
       "      const quickchartButtonEl =\n",
       "        document.querySelector('#' + key + ' button');\n",
       "      quickchartButtonEl.disabled = true;  // To prevent multiple clicks.\n",
       "      quickchartButtonEl.classList.add('colab-df-spinner');\n",
       "      try {\n",
       "        const charts = await google.colab.kernel.invokeFunction(\n",
       "            'suggestCharts', [key], {});\n",
       "      } catch (error) {\n",
       "        console.error('Error during call to suggestCharts:', error);\n",
       "      }\n",
       "      quickchartButtonEl.classList.remove('colab-df-spinner');\n",
       "      quickchartButtonEl.classList.add('colab-df-quickchart-complete');\n",
       "    }\n",
       "    (() => {\n",
       "      let quickchartButtonEl =\n",
       "        document.querySelector('#df-f05dc7d9-48b0-41cd-9753-86b9cfa32f53 button');\n",
       "      quickchartButtonEl.style.display =\n",
       "        google.colab.kernel.accessAllowed ? 'block' : 'none';\n",
       "    })();\n",
       "  </script>\n",
       "</div>\n",
       "\n",
       "    </div>\n",
       "  </div>\n"
      ],
      "text/plain": [
       "   movieId                                              title  \\\n",
       "1     1411                                      Hamlet (1996)   \n",
       "2   177593   Three Billboards Outside Ebbing, Missouri (2017)   \n",
       "3     4973  Amelie (Fabuleux destin d'Amélie Poulain, Le) ...   \n",
       "4      296                                Pulp Fiction (1994)   \n",
       "5      430                               Calendar Girl (1993)   \n",
       "6      608                                       Fargo (1996)   \n",
       "7     7096                            Rivers and Tides (2001)   \n",
       "8     1732                           Big Lebowski, The (1998)   \n",
       "9       16                                      Casino (1995)   \n",
       "10    6442                                Belle époque (1992)   \n",
       "11     318                   Shawshank Redemption, The (1994)   \n",
       "12    1222                           Full Metal Jacket (1987)   \n",
       "13   26171                 Play Time (a.k.a. Playtime) (1967)   \n",
       "14     778                               Trainspotting (1996)   \n",
       "15    6460                     Trial, The (Procès, Le) (1962)   \n",
       "\n",
       "                         genres  predicted_ratings  \n",
       "1           Crime|Drama|Romance           4.935855  \n",
       "2                   Crime|Drama           4.914150  \n",
       "3                Comedy|Romance           4.853640  \n",
       "4   Comedy|Crime|Drama|Thriller           4.758360  \n",
       "5                  Comedy|Drama           4.756208  \n",
       "6   Comedy|Crime|Drama|Thriller           4.740830  \n",
       "7                   Documentary           4.716104  \n",
       "8                  Comedy|Crime           4.694263  \n",
       "9                   Crime|Drama           4.644830  \n",
       "10               Comedy|Romance           4.610984  \n",
       "11                  Crime|Drama           4.610054  \n",
       "12                    Drama|War           4.608688  \n",
       "13                       Comedy           4.606765  \n",
       "14           Comedy|Crime|Drama           4.593240  \n",
       "15                        Drama           4.589395  "
      ]
     },
     "execution_count": 116,
     "metadata": {},
     "output_type": "execute_result"
    }
   ],
   "source": [
    "TopRecommend(15,575,bestModel)"
   ]
  },
  {
   "cell_type": "code",
   "execution_count": 117,
   "metadata": {
    "colab": {
     "base_uri": "https://localhost:8080/",
     "height": 555
    },
    "id": "UzwSy-bfj2Ee",
    "outputId": "2698f97b-95dc-4018-b143-0b7a28797f8c"
   },
   "outputs": [
    {
     "name": "stderr",
     "output_type": "stream",
     "text": [
      "/content/spark-3.2.1-bin-hadoop3.2/python/pyspark/sql/context.py:125: FutureWarning: Deprecated in 3.0.0. Use SparkSession.builder.getOrCreate() instead.\n",
      "  warnings.warn(\n"
     ]
    },
    {
     "data": {
      "application/vnd.google.colaboratory.intrinsic+json": {
       "summary": "{\n  \"name\": \"TopRecommend(15,232,bestModel)\",\n  \"rows\": 15,\n  \"fields\": [\n    {\n      \"column\": \"movieId\",\n      \"properties\": {\n        \"dtype\": \"string\",\n        \"num_unique_values\": 15,\n        \"samples\": [\n          \"130970\",\n          \"143511\",\n          \"80906\"\n        ],\n        \"semantic_type\": \"\",\n        \"description\": \"\"\n      }\n    },\n    {\n      \"column\": \"title\",\n      \"properties\": {\n        \"dtype\": \"string\",\n        \"num_unique_values\": 15,\n        \"samples\": [\n          \"George Carlin: Life Is Worth Losing (2005)\",\n          \"Human (2015)\",\n          \"Inside Job (2010)\"\n        ],\n        \"semantic_type\": \"\",\n        \"description\": \"\"\n      }\n    },\n    {\n      \"column\": \"genres\",\n      \"properties\": {\n        \"dtype\": \"string\",\n        \"num_unique_values\": 11,\n        \"samples\": [\n          \"Animation|Children|Comedy|Fantasy\",\n          \"Documentary\",\n          \"Crime\"\n        ],\n        \"semantic_type\": \"\",\n        \"description\": \"\"\n      }\n    },\n    {\n      \"column\": \"predicted_ratings\",\n      \"properties\": {\n        \"dtype\": \"number\",\n        \"std\": 0.025436595449229715,\n        \"min\": 4.3934502601623535,\n        \"max\": 4.4919657707214355,\n        \"num_unique_values\": 2,\n        \"samples\": [\n          4.3934502601623535,\n          4.4919657707214355\n        ],\n        \"semantic_type\": \"\",\n        \"description\": \"\"\n      }\n    }\n  ]\n}",
       "type": "dataframe"
      },
      "text/html": [
       "\n",
       "  <div id=\"df-50ac550d-d45a-4336-9e6f-e37fa437e18f\" class=\"colab-df-container\">\n",
       "    <div>\n",
       "<style scoped>\n",
       "    .dataframe tbody tr th:only-of-type {\n",
       "        vertical-align: middle;\n",
       "    }\n",
       "\n",
       "    .dataframe tbody tr th {\n",
       "        vertical-align: top;\n",
       "    }\n",
       "\n",
       "    .dataframe thead th {\n",
       "        text-align: right;\n",
       "    }\n",
       "</style>\n",
       "<table border=\"1\" class=\"dataframe\">\n",
       "  <thead>\n",
       "    <tr style=\"text-align: right;\">\n",
       "      <th></th>\n",
       "      <th>movieId</th>\n",
       "      <th>title</th>\n",
       "      <th>genres</th>\n",
       "      <th>predicted_ratings</th>\n",
       "    </tr>\n",
       "  </thead>\n",
       "  <tbody>\n",
       "    <tr>\n",
       "      <th>1</th>\n",
       "      <td>80906</td>\n",
       "      <td>Inside Job (2010)</td>\n",
       "      <td>Documentary</td>\n",
       "      <td>4.491966</td>\n",
       "    </tr>\n",
       "    <tr>\n",
       "      <th>2</th>\n",
       "      <td>172583</td>\n",
       "      <td>Investigation Held by Kolobki (1986)</td>\n",
       "      <td>Animation</td>\n",
       "      <td>4.393450</td>\n",
       "    </tr>\n",
       "    <tr>\n",
       "      <th>3</th>\n",
       "      <td>166183</td>\n",
       "      <td>Junior and Karlson (1968)</td>\n",
       "      <td>Adventure|Animation|Children</td>\n",
       "      <td>4.393450</td>\n",
       "    </tr>\n",
       "    <tr>\n",
       "      <th>4</th>\n",
       "      <td>163112</td>\n",
       "      <td>Winnie the Pooh Goes Visiting (1971)</td>\n",
       "      <td>Animation</td>\n",
       "      <td>4.393450</td>\n",
       "    </tr>\n",
       "    <tr>\n",
       "      <th>5</th>\n",
       "      <td>163072</td>\n",
       "      <td>Winnie Pooh (1969)</td>\n",
       "      <td>Animation|Children</td>\n",
       "      <td>4.393450</td>\n",
       "    </tr>\n",
       "    <tr>\n",
       "      <th>6</th>\n",
       "      <td>173963</td>\n",
       "      <td>Empties (2007)</td>\n",
       "      <td>Comedy</td>\n",
       "      <td>4.393450</td>\n",
       "    </tr>\n",
       "    <tr>\n",
       "      <th>7</th>\n",
       "      <td>173351</td>\n",
       "      <td>Wow! A Talking Fish! (1983)</td>\n",
       "      <td>Animation|Children|Comedy|Fantasy</td>\n",
       "      <td>4.393450</td>\n",
       "    </tr>\n",
       "    <tr>\n",
       "      <th>8</th>\n",
       "      <td>32892</td>\n",
       "      <td>Ivan's Childhood (a.k.a. My Name is Ivan) (Iva...</td>\n",
       "      <td>Drama|War</td>\n",
       "      <td>4.393450</td>\n",
       "    </tr>\n",
       "    <tr>\n",
       "      <th>9</th>\n",
       "      <td>147250</td>\n",
       "      <td>The Adventures of Sherlock Holmes and Doctor W...</td>\n",
       "      <td>(no genres listed)</td>\n",
       "      <td>4.393450</td>\n",
       "    </tr>\n",
       "    <tr>\n",
       "      <th>10</th>\n",
       "      <td>130970</td>\n",
       "      <td>George Carlin: Life Is Worth Losing (2005)</td>\n",
       "      <td>Comedy</td>\n",
       "      <td>4.393450</td>\n",
       "    </tr>\n",
       "    <tr>\n",
       "      <th>11</th>\n",
       "      <td>147300</td>\n",
       "      <td>Adventures Of Sherlock Holmes And Dr. Watson: ...</td>\n",
       "      <td>Crime|Mystery</td>\n",
       "      <td>4.393450</td>\n",
       "    </tr>\n",
       "    <tr>\n",
       "      <th>12</th>\n",
       "      <td>143511</td>\n",
       "      <td>Human (2015)</td>\n",
       "      <td>Documentary</td>\n",
       "      <td>4.393450</td>\n",
       "    </tr>\n",
       "    <tr>\n",
       "      <th>13</th>\n",
       "      <td>147330</td>\n",
       "      <td>Sherlock Holmes and Dr. Watson: Acquaintance (...</td>\n",
       "      <td>Crime</td>\n",
       "      <td>4.393450</td>\n",
       "    </tr>\n",
       "    <tr>\n",
       "      <th>14</th>\n",
       "      <td>104780</td>\n",
       "      <td>Mystery of the Third Planet, The (Tayna tretey...</td>\n",
       "      <td>Adventure|Animation|Sci-Fi</td>\n",
       "      <td>4.393450</td>\n",
       "    </tr>\n",
       "    <tr>\n",
       "      <th>15</th>\n",
       "      <td>142020</td>\n",
       "      <td>Oscar (1967)</td>\n",
       "      <td>Comedy</td>\n",
       "      <td>4.393450</td>\n",
       "    </tr>\n",
       "  </tbody>\n",
       "</table>\n",
       "</div>\n",
       "    <div class=\"colab-df-buttons\">\n",
       "\n",
       "  <div class=\"colab-df-container\">\n",
       "    <button class=\"colab-df-convert\" onclick=\"convertToInteractive('df-50ac550d-d45a-4336-9e6f-e37fa437e18f')\"\n",
       "            title=\"Convert this dataframe to an interactive table.\"\n",
       "            style=\"display:none;\">\n",
       "\n",
       "  <svg xmlns=\"http://www.w3.org/2000/svg\" height=\"24px\" viewBox=\"0 -960 960 960\">\n",
       "    <path d=\"M120-120v-720h720v720H120Zm60-500h600v-160H180v160Zm220 220h160v-160H400v160Zm0 220h160v-160H400v160ZM180-400h160v-160H180v160Zm440 0h160v-160H620v160ZM180-180h160v-160H180v160Zm440 0h160v-160H620v160Z\"/>\n",
       "  </svg>\n",
       "    </button>\n",
       "\n",
       "  <style>\n",
       "    .colab-df-container {\n",
       "      display:flex;\n",
       "      gap: 12px;\n",
       "    }\n",
       "\n",
       "    .colab-df-convert {\n",
       "      background-color: #E8F0FE;\n",
       "      border: none;\n",
       "      border-radius: 50%;\n",
       "      cursor: pointer;\n",
       "      display: none;\n",
       "      fill: #1967D2;\n",
       "      height: 32px;\n",
       "      padding: 0 0 0 0;\n",
       "      width: 32px;\n",
       "    }\n",
       "\n",
       "    .colab-df-convert:hover {\n",
       "      background-color: #E2EBFA;\n",
       "      box-shadow: 0px 1px 2px rgba(60, 64, 67, 0.3), 0px 1px 3px 1px rgba(60, 64, 67, 0.15);\n",
       "      fill: #174EA6;\n",
       "    }\n",
       "\n",
       "    .colab-df-buttons div {\n",
       "      margin-bottom: 4px;\n",
       "    }\n",
       "\n",
       "    [theme=dark] .colab-df-convert {\n",
       "      background-color: #3B4455;\n",
       "      fill: #D2E3FC;\n",
       "    }\n",
       "\n",
       "    [theme=dark] .colab-df-convert:hover {\n",
       "      background-color: #434B5C;\n",
       "      box-shadow: 0px 1px 3px 1px rgba(0, 0, 0, 0.15);\n",
       "      filter: drop-shadow(0px 1px 2px rgba(0, 0, 0, 0.3));\n",
       "      fill: #FFFFFF;\n",
       "    }\n",
       "  </style>\n",
       "\n",
       "    <script>\n",
       "      const buttonEl =\n",
       "        document.querySelector('#df-50ac550d-d45a-4336-9e6f-e37fa437e18f button.colab-df-convert');\n",
       "      buttonEl.style.display =\n",
       "        google.colab.kernel.accessAllowed ? 'block' : 'none';\n",
       "\n",
       "      async function convertToInteractive(key) {\n",
       "        const element = document.querySelector('#df-50ac550d-d45a-4336-9e6f-e37fa437e18f');\n",
       "        const dataTable =\n",
       "          await google.colab.kernel.invokeFunction('convertToInteractive',\n",
       "                                                    [key], {});\n",
       "        if (!dataTable) return;\n",
       "\n",
       "        const docLinkHtml = 'Like what you see? Visit the ' +\n",
       "          '<a target=\"_blank\" href=https://colab.research.google.com/notebooks/data_table.ipynb>data table notebook</a>'\n",
       "          + ' to learn more about interactive tables.';\n",
       "        element.innerHTML = '';\n",
       "        dataTable['output_type'] = 'display_data';\n",
       "        await google.colab.output.renderOutput(dataTable, element);\n",
       "        const docLink = document.createElement('div');\n",
       "        docLink.innerHTML = docLinkHtml;\n",
       "        element.appendChild(docLink);\n",
       "      }\n",
       "    </script>\n",
       "  </div>\n",
       "\n",
       "\n",
       "<div id=\"df-ac38c583-f292-4c4a-acd0-6e22435bdb63\">\n",
       "  <button class=\"colab-df-quickchart\" onclick=\"quickchart('df-ac38c583-f292-4c4a-acd0-6e22435bdb63')\"\n",
       "            title=\"Suggest charts\"\n",
       "            style=\"display:none;\">\n",
       "\n",
       "<svg xmlns=\"http://www.w3.org/2000/svg\" height=\"24px\"viewBox=\"0 0 24 24\"\n",
       "     width=\"24px\">\n",
       "    <g>\n",
       "        <path d=\"M19 3H5c-1.1 0-2 .9-2 2v14c0 1.1.9 2 2 2h14c1.1 0 2-.9 2-2V5c0-1.1-.9-2-2-2zM9 17H7v-7h2v7zm4 0h-2V7h2v10zm4 0h-2v-4h2v4z\"/>\n",
       "    </g>\n",
       "</svg>\n",
       "  </button>\n",
       "\n",
       "<style>\n",
       "  .colab-df-quickchart {\n",
       "      --bg-color: #E8F0FE;\n",
       "      --fill-color: #1967D2;\n",
       "      --hover-bg-color: #E2EBFA;\n",
       "      --hover-fill-color: #174EA6;\n",
       "      --disabled-fill-color: #AAA;\n",
       "      --disabled-bg-color: #DDD;\n",
       "  }\n",
       "\n",
       "  [theme=dark] .colab-df-quickchart {\n",
       "      --bg-color: #3B4455;\n",
       "      --fill-color: #D2E3FC;\n",
       "      --hover-bg-color: #434B5C;\n",
       "      --hover-fill-color: #FFFFFF;\n",
       "      --disabled-bg-color: #3B4455;\n",
       "      --disabled-fill-color: #666;\n",
       "  }\n",
       "\n",
       "  .colab-df-quickchart {\n",
       "    background-color: var(--bg-color);\n",
       "    border: none;\n",
       "    border-radius: 50%;\n",
       "    cursor: pointer;\n",
       "    display: none;\n",
       "    fill: var(--fill-color);\n",
       "    height: 32px;\n",
       "    padding: 0;\n",
       "    width: 32px;\n",
       "  }\n",
       "\n",
       "  .colab-df-quickchart:hover {\n",
       "    background-color: var(--hover-bg-color);\n",
       "    box-shadow: 0 1px 2px rgba(60, 64, 67, 0.3), 0 1px 3px 1px rgba(60, 64, 67, 0.15);\n",
       "    fill: var(--button-hover-fill-color);\n",
       "  }\n",
       "\n",
       "  .colab-df-quickchart-complete:disabled,\n",
       "  .colab-df-quickchart-complete:disabled:hover {\n",
       "    background-color: var(--disabled-bg-color);\n",
       "    fill: var(--disabled-fill-color);\n",
       "    box-shadow: none;\n",
       "  }\n",
       "\n",
       "  .colab-df-spinner {\n",
       "    border: 2px solid var(--fill-color);\n",
       "    border-color: transparent;\n",
       "    border-bottom-color: var(--fill-color);\n",
       "    animation:\n",
       "      spin 1s steps(1) infinite;\n",
       "  }\n",
       "\n",
       "  @keyframes spin {\n",
       "    0% {\n",
       "      border-color: transparent;\n",
       "      border-bottom-color: var(--fill-color);\n",
       "      border-left-color: var(--fill-color);\n",
       "    }\n",
       "    20% {\n",
       "      border-color: transparent;\n",
       "      border-left-color: var(--fill-color);\n",
       "      border-top-color: var(--fill-color);\n",
       "    }\n",
       "    30% {\n",
       "      border-color: transparent;\n",
       "      border-left-color: var(--fill-color);\n",
       "      border-top-color: var(--fill-color);\n",
       "      border-right-color: var(--fill-color);\n",
       "    }\n",
       "    40% {\n",
       "      border-color: transparent;\n",
       "      border-right-color: var(--fill-color);\n",
       "      border-top-color: var(--fill-color);\n",
       "    }\n",
       "    60% {\n",
       "      border-color: transparent;\n",
       "      border-right-color: var(--fill-color);\n",
       "    }\n",
       "    80% {\n",
       "      border-color: transparent;\n",
       "      border-right-color: var(--fill-color);\n",
       "      border-bottom-color: var(--fill-color);\n",
       "    }\n",
       "    90% {\n",
       "      border-color: transparent;\n",
       "      border-bottom-color: var(--fill-color);\n",
       "    }\n",
       "  }\n",
       "</style>\n",
       "\n",
       "  <script>\n",
       "    async function quickchart(key) {\n",
       "      const quickchartButtonEl =\n",
       "        document.querySelector('#' + key + ' button');\n",
       "      quickchartButtonEl.disabled = true;  // To prevent multiple clicks.\n",
       "      quickchartButtonEl.classList.add('colab-df-spinner');\n",
       "      try {\n",
       "        const charts = await google.colab.kernel.invokeFunction(\n",
       "            'suggestCharts', [key], {});\n",
       "      } catch (error) {\n",
       "        console.error('Error during call to suggestCharts:', error);\n",
       "      }\n",
       "      quickchartButtonEl.classList.remove('colab-df-spinner');\n",
       "      quickchartButtonEl.classList.add('colab-df-quickchart-complete');\n",
       "    }\n",
       "    (() => {\n",
       "      let quickchartButtonEl =\n",
       "        document.querySelector('#df-ac38c583-f292-4c4a-acd0-6e22435bdb63 button');\n",
       "      quickchartButtonEl.style.display =\n",
       "        google.colab.kernel.accessAllowed ? 'block' : 'none';\n",
       "    })();\n",
       "  </script>\n",
       "</div>\n",
       "\n",
       "    </div>\n",
       "  </div>\n"
      ],
      "text/plain": [
       "   movieId                                              title  \\\n",
       "1    80906                                  Inside Job (2010)   \n",
       "2   172583               Investigation Held by Kolobki (1986)   \n",
       "3   166183                          Junior and Karlson (1968)   \n",
       "4   163112               Winnie the Pooh Goes Visiting (1971)   \n",
       "5   163072                                 Winnie Pooh (1969)   \n",
       "6   173963                                     Empties (2007)   \n",
       "7   173351                        Wow! A Talking Fish! (1983)   \n",
       "8    32892  Ivan's Childhood (a.k.a. My Name is Ivan) (Iva...   \n",
       "9   147250  The Adventures of Sherlock Holmes and Doctor W...   \n",
       "10  130970         George Carlin: Life Is Worth Losing (2005)   \n",
       "11  147300  Adventures Of Sherlock Holmes And Dr. Watson: ...   \n",
       "12  143511                                       Human (2015)   \n",
       "13  147330  Sherlock Holmes and Dr. Watson: Acquaintance (...   \n",
       "14  104780  Mystery of the Third Planet, The (Tayna tretey...   \n",
       "15  142020                                       Oscar (1967)   \n",
       "\n",
       "                               genres  predicted_ratings  \n",
       "1                         Documentary           4.491966  \n",
       "2                           Animation           4.393450  \n",
       "3        Adventure|Animation|Children           4.393450  \n",
       "4                           Animation           4.393450  \n",
       "5                  Animation|Children           4.393450  \n",
       "6                              Comedy           4.393450  \n",
       "7   Animation|Children|Comedy|Fantasy           4.393450  \n",
       "8                           Drama|War           4.393450  \n",
       "9                  (no genres listed)           4.393450  \n",
       "10                             Comedy           4.393450  \n",
       "11                      Crime|Mystery           4.393450  \n",
       "12                        Documentary           4.393450  \n",
       "13                              Crime           4.393450  \n",
       "14         Adventure|Animation|Sci-Fi           4.393450  \n",
       "15                             Comedy           4.393450  "
      ]
     },
     "execution_count": 117,
     "metadata": {},
     "output_type": "execute_result"
    }
   ],
   "source": [
    "TopRecommend(15,232,bestModel)"
   ]
  },
  {
   "cell_type": "markdown",
   "metadata": {
    "application/vnd.databricks.v1+cell": {
     "cellMetadata": {},
     "inputWidgets": {},
     "nuid": "f010be4b-7abc-41cf-9173-6a44f0039d9b",
     "showTitle": false,
     "title": ""
    },
    "id": "RGBgQBagE8Q2"
   },
   "source": [
    "## Find the similar moives for moive with id: 463, 471\n",
    "You can find the similar moives based on the ALS results"
   ]
  },
  {
   "cell_type": "code",
   "execution_count": 128,
   "metadata": {
    "colab": {
     "base_uri": "https://localhost:8080/"
    },
    "id": "r6b-hersbxgE",
    "outputId": "5c939313-edd6-4b07-b3b7-b5cd962a314d"
   },
   "outputs": [
    {
     "name": "stdout",
     "output_type": "stream",
     "text": [
      "+-------+------------+-----------+-----------+-----------+------------+------------+----------+-----------+-----------+------------+----------+-----------+------------+------------+------------+-------------+------------+------------+------------+------------+------------+------------+------------+-----------+----------+\n",
      "|movieId|    feature0|   feature1|   feature2|   feature3|    feature4|    feature5|  feature6|   feature7|   feature8|    feature9| feature10|  feature11|   feature12|   feature13|   feature14|    feature15|   feature16|   feature17|   feature18|   feature19|   feature20|   feature21|   feature22|  feature23| feature24|\n",
      "+-------+------------+-----------+-----------+-----------+------------+------------+----------+-----------+-----------+------------+----------+-----------+------------+------------+------------+-------------+------------+------------+------------+------------+------------+------------+------------+-----------+----------+\n",
      "|     10|  0.28435665|-0.39692384|  1.0109719| -0.6769807|  0.24004342|  0.08637763| 0.5833809|-0.22523104| -0.4415441| -0.09138424|0.44203332| 0.23084188|  0.06999482| -0.19687642| -0.15628178|     0.274915|  0.09863967|0.0058807773|   0.5278267|-0.078664504|   0.4925868|  0.53938913| -0.08337846|-0.34841585| 0.9721752|\n",
      "|     20|   0.2517706| -0.6179169|0.045085922|-0.26435247|  0.54527813| -0.04777385|0.44746926|-0.08663403|-0.49985355|  0.33599368| 0.7569943| 0.23859534|  0.22577031| 0.009741995| -0.41370124|    0.2982382| -0.57116336| -0.08197694|  0.12079625|-0.041832935|   -0.317058|  0.44159105|-0.024276044| -0.2878962|0.65085834|\n",
      "|     30| -0.38880298|-0.65501267| 0.13733563| -0.9407221|  0.20049013|   0.7066995|0.45031855| 0.52947235|-0.46172222|  0.15683407|0.08074061|-0.37062624|   0.2220877|  0.11837311|-0.027379373|  -0.29658484|  -0.5182567| -0.20625073|    -0.26472|  0.20793898|   0.1729077|-0.015480917| 0.019120779|-0.09519359| 0.3783812|\n",
      "|     40|  0.39326674| -0.5537497| 0.94089836| -0.0833733| 0.058110267|  0.33729053| 0.1260064|-0.15872933| -0.0692009|0.0058208983|0.28115293|-0.08709965|  0.26627487|  -0.2694012| -0.20059685|    0.3833031|  -0.0348864| -0.40337932|  0.24204893|-0.112613544| -0.36746904|  0.62245214| 0.062314544|-0.21505256| 1.2655674|\n",
      "|     50|-0.048430663| -0.9163649|  0.7627062| -1.1145358| -0.07827231|  0.21620634|0.70867693| -0.4511415| -0.6404991| -0.06976474|  0.600039| 0.22476274|  0.45496473| -0.12728502|  -0.5002672|   0.24951111| -0.12812698|  -0.3809029|   0.3156336|  -0.1464389| 0.014002121|  0.44736573|-0.092062816|-0.60971296|0.83594024|\n",
      "|     60| -0.16086209|-0.49163273|  0.3716978|-0.67015004|  0.02223154|   0.1894911|0.24942678| -0.5169103| -0.5022313|   0.2338146| 0.2729728|0.034384515|  0.06899527| -0.20290782|  -0.5526209|  -0.32696247|  -0.1352443|  0.28426018|-0.062615395| 0.025929075|    0.364868| 0.025620993|   0.6852945| -0.7281038| 1.1142908|\n",
      "|     70| -0.06114948|-0.73146284| 0.27700818|-0.48064086|   0.3315967|  0.34634832| 0.6092948|-0.23882926|  -0.356877| -0.18554308|0.72912973|0.034907922|  -0.3039067| 0.055791438| -0.18401219|     0.322571|  0.14412981|  -0.3997502|  0.34887213| -0.38514376|  0.74858606|  0.21680221|  0.29886216| -0.4400459| 1.3486146|\n",
      "|     80|-0.042248815| -0.9392518| 0.48902884| -0.5735991|  0.34386033|  0.29189909|0.57249796| -0.5729523|-0.62220526| 0.015826194| 0.5287623| 0.15125158|  0.43447456|  0.11586022| -0.15528643|  0.010710718| 0.035803597|  0.06390345|-0.081824176| 0.113849156|  0.13763861|  0.10731419| -0.26715854|-0.45836645|0.75824034|\n",
      "|    100|  0.21332538| -0.5538546| 0.54376113|-0.40796933| -0.17465761| 0.111597344|0.24528435| -0.5642771|-0.19894977| -0.18085264|0.43386397|-0.05185193|  0.27897182| -0.03174088|  -0.2650419|  -0.21335119| 0.043596774|  0.32702923| -0.17903742| -0.08457819|   0.1309093|  0.06185151|  0.39924863|-0.83284104| 0.6819562|\n",
      "|    110| -0.19016409| -0.7801591|  0.7371068| -0.9598548|-0.085254304|  0.07696385| 0.9509119|-0.50453633|-0.41365412|  0.06085646|0.32007435| 0.15816204| 0.012995525|  0.02182912|  -0.2839108|   0.49887574| 0.045428332|   0.2143164|   0.4269249| -0.44445732|  -0.2775665|  0.65486705|  0.17504346| -0.6990008| 0.8582977|\n",
      "|    140| -0.18445241|  -0.688666|  0.6242181| -0.7407556|  0.27693403|-0.092875235|0.58214146|-0.22923425|-0.18182886|  0.08700261|0.29180813|  0.3049771|  0.15970224| -0.26240838| 0.057693888|   0.30358043|-0.066832796|  0.36847737|-0.016701678|  0.10031865| 0.053515695|  0.46849367|  0.11672656| -0.6437596|0.67206603|\n",
      "|    150|    0.160869| -0.6403061|  0.8265617| -0.8553036|  0.14857215|  0.27248237|0.35642144| -0.5662883| -0.2112713|-0.029533042|0.35587347| 0.25774062|4.1597494E-4| -0.39535162|  -0.4196599|   0.17732705| -0.42555416|   0.3171378|-0.082552284|  -0.1927088|-0.121816576|  0.44901615| -0.14418894|-0.97997475|0.88941234|\n",
      "|    160|  0.04501477| -0.3941745|  0.6119072| -0.4511681|  0.29498303|   -0.078081|0.11973825|-0.30142245|-0.21062475|  0.19091329|0.07454507| 0.38832027|  0.05746579|  -0.1695448|  -0.1807699|    0.4989683|   0.3292315|   0.7115121| -0.18437026| -0.26577294|  0.16056405| -0.01681802|  0.41877025| -0.8814849|0.94636434|\n",
      "|    170|  -0.1872313| -0.4544939|  0.6545546| -0.5137181| 0.005505209| -0.04561015|  0.555013|-0.52176255|-0.31430924| 0.006278306|0.68858016|  0.6239055|-0.057492208|  -0.0788982| -0.26980484|   0.25796834|  0.45068017| -0.29047042|-0.035887368|  0.18530741|-0.113129616|  0.59739584| -0.04544972|-0.82733905| 0.7173938|\n",
      "|    180| 0.023224272| -0.6579738| 0.52501076| -1.0820459| -0.23944324|  0.29300538|0.43338418|-0.38497177| -0.5975289| -0.25013626|0.44795018| 0.47162744|-0.100428306|   0.3547022| -0.24156706|    0.6975947|   0.2758057| -0.42961723|   0.2423988| 0.060772922|  0.08041221|  0.09219094|  -0.3209223|-0.49456105|0.67731637|\n",
      "|    190| 0.037474792|-0.36310166| 0.18334849| -0.5849286| -0.14584202|   0.9646202| 1.0224875|-0.46763667| -0.4090802| -0.49548408| 0.4917353| 0.26500806|   0.5058189|  0.54594886| -0.20199259|   -0.6237797| 0.120137684|-0.060923457|  0.37093368|  0.40551174| -0.23916243|   -0.596653| -0.51347846|-0.22702645| 0.7868749|\n",
      "|    210|  0.07045125| -0.5309978|  0.8254925| -0.5461736|-0.124428295|  0.18516615|0.43417698|-0.44419587|-0.47063234|  0.17800876|0.16920967|  0.4478092|   0.0971514|   0.0314204| 0.025768042|   0.12540416| -0.08272075|  0.38171357| -0.04473516|  -0.1434136|  0.14752658|  0.29897878|  0.21518339|-0.50265616|0.84357893|\n",
      "|    220| -0.19847432| -0.1210152| 0.46958396|-0.16464113|-0.082719564|  0.04150736|0.35212293|-0.16430236| -0.4818311|-0.103619255|0.51618105| 0.12306353| 0.077871494|  0.21848175| -0.12784366|-5.1122744E-5|-0.003034314|  0.30730808|  0.04915545| -0.12419021|  0.22507921| 0.034901842|   0.3420438| -0.5163778|  0.572049|\n",
      "|    230|  -0.2528602| -0.6050184|  1.0002843| -0.6981873|  0.08282008|  0.38646144|0.18721718|-0.29052404|-0.55564845|  0.14267643| 0.5019994| 0.38034582|   0.5529907| -0.18492939|  0.15149578|  -0.06556937| -0.30202472|  0.30061996|  0.13198902| 0.024863789|  0.15405357| 0.055024676| -0.05562645|-0.64646834| 1.0211719|\n",
      "|    240|  0.04458502|-0.36815456|  0.5572673|-0.42758483|-0.048832335|  0.13738434| 0.3165142| -0.3072496|-0.27350265|  0.14788663|0.13005698|   0.427665| -0.27704352|-0.048297796| -0.21060666|   0.12048785| -0.07632333|  0.32278377| 0.011094746| -0.35672346|  0.34289426|  0.15300433|  0.24022564|-0.26749313|0.68556684|\n",
      "+-------+------------+-----------+-----------+-----------+------------+------------+----------+-----------+-----------+------------+----------+-----------+------------+------------+------------+-------------+------------+------------+------------+------------+------------+------------+------------+-----------+----------+\n",
      "only showing top 20 rows\n",
      "\n"
     ]
    },
    {
     "name": "stderr",
     "output_type": "stream",
     "text": [
      "/content/spark-3.2.1-bin-hadoop3.2/python/pyspark/sql/context.py:125: FutureWarning: Deprecated in 3.0.0. Use SparkSession.builder.getOrCreate() instead.\n",
      "  warnings.warn(\n"
     ]
    }
   ],
   "source": [
    "movie_factors = bestModel.itemFactors\n",
    "\n",
    "exprs = [f\"features[{i}] as feature{i}\" for i in range(bestModel.rank)]\n",
    "exprs.insert(0, \"id as movieId\")\n",
    "\n",
    "movie_factors = movie_factors.selectExpr(*exprs)\n",
    "movie_factors.createOrReplaceTempView('movie_factors')\n",
    "movie_factors.show()"
   ]
  },
  {
   "cell_type": "code",
   "execution_count": 129,
   "metadata": {
    "id": "HEFI5Tn6pf8z"
   },
   "outputs": [],
   "source": [
    "def dist_similar(k, mid):\n",
    "    '''\n",
    "    k: number of similar movies to find\n",
    "    mid: id of the movie to find similarities\n",
    "    '''\n",
    "    # Get the feature vector of the target movie\n",
    "    movie_info = spark.sql(f'select * from movie_factors where movieId={mid}').toPandas()\n",
    "\n",
    "    # If no movie is found, return to the prompt\n",
    "    if movie_info.shape[0] == 0:\n",
    "        print(f'No movie with id {mid} is found in the data.')\n",
    "        return None, None\n",
    "\n",
    "    temp = ['select movieId,']\n",
    "\n",
    "    # Iterate over each feature dimension and compute the square of each dimension component of the Euclidean distance\n",
    "    for i in range(bestModel.rank):\n",
    "        val = movie_info.iloc[0, i + 1]\n",
    "        comd = f'power(feature{i} - {val}, 2)'\n",
    "        if i < bestModel.rank - 1:\n",
    "            temp.append(f'{comd} as sd{i},')\n",
    "        else:\n",
    "            temp.append(f'{comd} as sd{i}')\n",
    "\n",
    "    # Constructing query statements: excluding the target movie itself\n",
    "    temp.append(f'from movie_factors where movieId != {mid}')\n",
    "\n",
    "    # caculate the distence\n",
    "    ssd = spark.sql(' '.join(temp))\n",
    "\n",
    "    # Calculate the sum of squares of all dimensions and take the square root to get the final Euclidean distance\n",
    "    ssd = ssd.selectExpr(\n",
    "        'movieId',\n",
    "        f'sqrt(sd0 + sd1 + sd2 + sd3 + sd4) as euclidean_dist'\n",
    "    ).orderBy('euclidean_dist', ascending=True).limit(k).toPandas()\n",
    "\n",
    "    # Get details of the k most similar movies\n",
    "    out = None\n",
    "    for i in ssd['movieId']:\n",
    "        if out is None:\n",
    "            out = movies_df.where(movies_df.movieId == str(i))\n",
    "        else:\n",
    "            out = out.union(movies_df.where(movies_df.movieId == str(i)))\n",
    "\n",
    "    # switch the result as Pandas DataFrame\n",
    "    out = out.toPandas()\n",
    "    out.index = range(1, k + 1)\n",
    "    return out, ssd"
   ]
  },
  {
   "cell_type": "code",
   "execution_count": 134,
   "metadata": {
    "colab": {
     "base_uri": "https://localhost:8080/"
    },
    "id": "kFTjbT21qUlH",
    "outputId": "30959fe3-89ed-4192-fb6c-f64e25558da2"
   },
   "outputs": [
    {
     "name": "stdout",
     "output_type": "stream",
     "text": [
      "   movieId                                              title  \\\n",
      "1     5025                               Orange County (2002)   \n",
      "2     7743                                   Explorers (1985)   \n",
      "3   157296                                Finding Dory (2016)   \n",
      "4    33683  High Tension (Haute tension) (Switchblade Roma...   \n",
      "5     3502                                     My Life (1993)   \n",
      "6     1428                                  Angel Baby (1995)   \n",
      "7    55282                            30 Days of Night (2007)   \n",
      "8      718              Visitors, The (Visiteurs, Les) (1993)   \n",
      "9      335                                  Underneath (1995)   \n",
      "10    5401                          Undercover Brother (2002)   \n",
      "\n",
      "                        genres  \n",
      "1                       Comedy  \n",
      "2    Adventure|Children|Sci-Fi  \n",
      "3   Adventure|Animation|Comedy  \n",
      "4              Horror|Thriller  \n",
      "5                        Drama  \n",
      "6                        Drama  \n",
      "7              Horror|Thriller  \n",
      "8        Comedy|Fantasy|Sci-Fi  \n",
      "9             Mystery|Thriller  \n",
      "10                      Comedy  \n"
     ]
    }
   ],
   "source": [
    "out, ssd = dist_similar(10, 471)\n",
    "print(out)"
   ]
  },
  {
   "cell_type": "code",
   "execution_count": 135,
   "metadata": {
    "colab": {
     "base_uri": "https://localhost:8080/"
    },
    "id": "j0mlvcbWqVhJ",
    "outputId": "d81971cb-025b-4dcd-9921-e232fb04e13c"
   },
   "outputs": [
    {
     "name": "stdout",
     "output_type": "stream",
     "text": [
      "No movie with id 463 is found in the data.\n",
      "None\n"
     ]
    }
   ],
   "source": [
    "out, ssd = dist_similar(10, 463)\n",
    "print(out)"
   ]
  },
  {
   "cell_type": "markdown",
   "metadata": {
    "application/vnd.databricks.v1+cell": {
     "cellMetadata": {},
     "inputWidgets": {},
     "nuid": "90b06a8e-410f-4148-ba9c-5d030cd5e703",
     "showTitle": false,
     "title": ""
    },
    "id": "3IhY6S2fE8Q2"
   },
   "source": [
    "\n",
    "## Report\n",
    "### motivation\n",
    "In this project we built a personalized movie recommendation system using Spark’s Alternating Least Squares (ALS) algorithm. The system aims to predict users’ movie ratings and recommend movies they are likely to enjoy based on historical data.\n",
    "\n",
    "1. step1. Data Loading and Preprocessing\\\n",
    "In this step, we loaded the movie and ratings data from CSV files and transformed them into a format suitable for machine learning using Spark’s DataFrame API. We cleaned the data, converting columns like userId, movieId, and rating into appropriate data types for processing.\n",
    "\n",
    "2. step2. Model Building Using ALS\\\n",
    "The ALS model was built using the Spark MLlib library. The training data was divided into an 80/20 split, and a grid search was applied to find the best hyperparameters (rank, regularization, etc.). The model was then trained on the dataset to predict movie ratings.\n",
    "\n",
    "3. step3. Model Evaluation and Fine-Tuning\\\n",
    "After training, the model’s performance was evaluated using Root Mean Square Error (RMSE). The model was fine-tuned by adjusting hyperparameters to minimize the RMSE, resulting in the best set of parameters.\n",
    "4. step4. Making Predictions and Recommendations\\\n",
    "Finally, the trained ALS model was used to recommend movies to users. Recommendations were based on user-specific preferences and historical ratings. Additionally, similar movies were suggested based on movie feature similarity.\n",
    "\n",
    "### output and conclusion\n",
    "The final model provided personalized movie recommendations with an RMSE of around 0.88 on the test set, indicating good prediction accuracy. The project successfully demonstrates how collaborative filtering techniques can be applied to build a scalable recommendation system."
   ]
  }
 ],
 "metadata": {
  "application/vnd.databricks.v1+notebook": {
   "dashboards": [],
   "environmentMetadata": null,
   "language": "python",
   "notebookMetadata": {
    "pythonIndentUnit": 2
   },
   "notebookName": "latest (1)",
   "widgets": {}
  },
  "colab": {
   "provenance": []
  },
  "kernelspec": {
   "display_name": "Python 3 (ipykernel)",
   "language": "python",
   "name": "python3"
  },
  "language_info": {
   "codemirror_mode": {
    "name": "ipython",
    "version": 3
   },
   "file_extension": ".py",
   "mimetype": "text/x-python",
   "name": "python",
   "nbconvert_exporter": "python",
   "pygments_lexer": "ipython3",
   "version": "3.12.7"
  }
 },
 "nbformat": 4,
 "nbformat_minor": 4
}
